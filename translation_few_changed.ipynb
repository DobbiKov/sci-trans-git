{
 "cells": [
  {
   "cell_type": "code",
   "execution_count": 1,
   "id": "4f0d6769-faa4-43e2-bdec-9fce994a3f45",
   "metadata": {},
   "outputs": [
    {
     "name": "stdout",
     "output_type": "stream",
     "text": [
      "Collecting google-genai\n",
      "  Using cached google_genai-1.21.1-py3-none-any.whl.metadata (37 kB)\n",
      "Requirement already satisfied: anyio<5.0.0,>=4.8.0 in /opt/conda/lib/python3.12/site-packages (from google-genai) (4.9.0)\n",
      "Collecting google-auth<3.0.0,>=2.14.1 (from google-genai)\n",
      "  Using cached google_auth-2.40.3-py2.py3-none-any.whl.metadata (6.2 kB)\n",
      "Requirement already satisfied: httpx<1.0.0,>=0.28.1 in /opt/conda/lib/python3.12/site-packages (from google-genai) (0.28.1)\n",
      "Requirement already satisfied: pydantic<3.0.0,>=2.0.0 in /opt/conda/lib/python3.12/site-packages (from google-genai) (2.11.2)\n",
      "Requirement already satisfied: requests<3.0.0,>=2.28.1 in /opt/conda/lib/python3.12/site-packages (from google-genai) (2.32.3)\n",
      "Requirement already satisfied: tenacity<9.0.0,>=8.2.3 in /opt/conda/lib/python3.12/site-packages (from google-genai) (8.5.0)\n",
      "Collecting websockets<15.1.0,>=13.0.0 (from google-genai)\n",
      "  Using cached websockets-15.0.1-cp312-cp312-manylinux_2_5_x86_64.manylinux1_x86_64.manylinux_2_17_x86_64.manylinux2014_x86_64.whl.metadata (6.8 kB)\n",
      "Requirement already satisfied: typing-extensions<5.0.0,>=4.11.0 in /opt/conda/lib/python3.12/site-packages (from google-genai) (4.13.1)\n",
      "Requirement already satisfied: idna>=2.8 in /opt/conda/lib/python3.12/site-packages (from anyio<5.0.0,>=4.8.0->google-genai) (3.10)\n",
      "Requirement already satisfied: sniffio>=1.1 in /opt/conda/lib/python3.12/site-packages (from anyio<5.0.0,>=4.8.0->google-genai) (1.3.1)\n",
      "Collecting cachetools<6.0,>=2.0.0 (from google-auth<3.0.0,>=2.14.1->google-genai)\n",
      "  Using cached cachetools-5.5.2-py3-none-any.whl.metadata (5.4 kB)\n",
      "Collecting pyasn1-modules>=0.2.1 (from google-auth<3.0.0,>=2.14.1->google-genai)\n",
      "  Using cached pyasn1_modules-0.4.2-py3-none-any.whl.metadata (3.5 kB)\n",
      "Collecting rsa<5,>=3.1.4 (from google-auth<3.0.0,>=2.14.1->google-genai)\n",
      "  Using cached rsa-4.9.1-py3-none-any.whl.metadata (5.6 kB)\n",
      "Requirement already satisfied: certifi in /opt/conda/lib/python3.12/site-packages (from httpx<1.0.0,>=0.28.1->google-genai) (2025.1.31)\n",
      "Requirement already satisfied: httpcore==1.* in /opt/conda/lib/python3.12/site-packages (from httpx<1.0.0,>=0.28.1->google-genai) (1.0.7)\n",
      "Requirement already satisfied: h11<0.15,>=0.13 in /opt/conda/lib/python3.12/site-packages (from httpcore==1.*->httpx<1.0.0,>=0.28.1->google-genai) (0.14.0)\n",
      "Requirement already satisfied: annotated-types>=0.6.0 in /opt/conda/lib/python3.12/site-packages (from pydantic<3.0.0,>=2.0.0->google-genai) (0.7.0)\n",
      "Requirement already satisfied: pydantic-core==2.33.1 in /opt/conda/lib/python3.12/site-packages (from pydantic<3.0.0,>=2.0.0->google-genai) (2.33.1)\n",
      "Requirement already satisfied: typing-inspection>=0.4.0 in /opt/conda/lib/python3.12/site-packages (from pydantic<3.0.0,>=2.0.0->google-genai) (0.4.0)\n",
      "Requirement already satisfied: charset_normalizer<4,>=2 in /opt/conda/lib/python3.12/site-packages (from requests<3.0.0,>=2.28.1->google-genai) (3.4.1)\n",
      "Requirement already satisfied: urllib3<3,>=1.21.1 in /opt/conda/lib/python3.12/site-packages (from requests<3.0.0,>=2.28.1->google-genai) (2.3.0)\n",
      "Collecting pyasn1<0.7.0,>=0.6.1 (from pyasn1-modules>=0.2.1->google-auth<3.0.0,>=2.14.1->google-genai)\n",
      "  Using cached pyasn1-0.6.1-py3-none-any.whl.metadata (8.4 kB)\n",
      "Using cached google_genai-1.21.1-py3-none-any.whl (206 kB)\n",
      "Using cached google_auth-2.40.3-py2.py3-none-any.whl (216 kB)\n",
      "Using cached websockets-15.0.1-cp312-cp312-manylinux_2_5_x86_64.manylinux1_x86_64.manylinux_2_17_x86_64.manylinux2014_x86_64.whl (182 kB)\n",
      "Using cached cachetools-5.5.2-py3-none-any.whl (10 kB)\n",
      "Using cached pyasn1_modules-0.4.2-py3-none-any.whl (181 kB)\n",
      "Using cached rsa-4.9.1-py3-none-any.whl (34 kB)\n",
      "Using cached pyasn1-0.6.1-py3-none-any.whl (83 kB)\n",
      "Installing collected packages: websockets, pyasn1, cachetools, rsa, pyasn1-modules, google-auth, google-genai\n",
      "Successfully installed cachetools-5.5.2 google-auth-2.40.3 google-genai-1.21.1 pyasn1-0.6.1 pyasn1-modules-0.4.2 rsa-4.9.1 websockets-15.0.1\n",
      "Collecting pylatexenc\n",
      "  Using cached pylatexenc-2.10-py3-none-any.whl\n",
      "Installing collected packages: pylatexenc\n",
      "Successfully installed pylatexenc-2.10\n"
     ]
    }
   ],
   "source": [
    "!pip install google-genai\n",
    "!pip install pylatexenc"
   ]
  },
  {
   "cell_type": "code",
   "execution_count": 2,
   "id": "f8e9ccf6-50e0-4ae6-b93b-ba1e366de177",
   "metadata": {},
   "outputs": [],
   "source": [
    "import requests\n",
    "\n",
    "from google import genai\n",
    "from google.genai import types as g_types\n",
    "\n",
    "from helper import _finalize_prompt, _prepare_prompt_for_language, return_comparison, _ask_gemini_model, _ask_gemma_model, _ask_aristote, extract_translated_from_response\n",
    "\n",
    "from tagging import latex_to_xml, reconstruct_from_xml\n",
    "\n",
    "from difflib import SequenceMatcher"
   ]
  },
  {
   "cell_type": "code",
   "execution_count": 3,
   "id": "2204642b-46d8-4066-8fe0-55f883476738",
   "metadata": {},
   "outputs": [],
   "source": [
    "\n",
    "def diff_score(a: str, b: str) -> float:\n",
    "    # ratio() ∈ [0..1], based on length of longest common subsequence\n",
    "    return SequenceMatcher(None, a, b).ratio()\n",
    "\n",
    "def diff_opcodes(a: str, b: str):\n",
    "    # returns list of (tag, i1, i2, j1, j2)\n",
    "    return SequenceMatcher(None, a, b).get_opcodes()"
   ]
  },
  {
   "cell_type": "code",
   "execution_count": null,
   "id": "4e9c2a00-4ba4-4660-b6c8-4d4028beaa93",
   "metadata": {},
   "outputs": [],
   "source": []
  },
  {
   "cell_type": "code",
   "execution_count": 2,
   "id": "4aaf38d9-dacf-413f-8fbe-9342aed8624a",
   "metadata": {},
   "outputs": [],
   "source": [
    "prompt = r'''\n",
    "You are tasked with updating the translation of a scientific document from [SOURCE_LANGUAGE] to [TARGET_LANGUAGE] using a structured XML format.\n",
    "\n",
    "The document consists of <TEXT> elements that contain translatable content (sentences or paragraphs), interleaved with <PH> tags that represent non-translatable content such as LaTeX commands, math expressions, or code.\n",
    "\n",
    "### Context:\n",
    "You are provided with:\n",
    "1. The original source paragraph (in [SOURCE_LANGUAGE]).\n",
    "2. Its correct translation (in [TARGET_LANGUAGE]).\n",
    "3. A **new version of the source paragraph**, which differs only slightly (1–3 words changed).\n",
    "\n",
    "### Your task:\n",
    "- **Update the translation** to reflect the changes in the new source.\n",
    "- **Reuse as much as possible** from the original translation.\n",
    "- Keep the XML structure unchanged, including all <PH> tags and their attributes.\n",
    "\n",
    "### Rules:\n",
    "- Translate or modify **only the parts that changed** in the new source.\n",
    "- Do **not modify, remove, or reorder** any <PH/> tags.\n",
    "- Use the `original` attribute of each <PH/> tag for understanding grammar context (e.g. case, gender, plurality), but do **not translate or alter** their content.\n",
    "- Your output must contain **only** the updated XML <TEXT> block — no explanations, comments, or extra markup.\n",
    "- All <PH> tags must be self-closing and written in the form:\n",
    "    <PH id=\"...\" original=\"...\"/>\n",
    "- Never use closing tags like </PH> or wrap content inside <PH> tags.\n",
    "- If the provided chunk doesn't contain any <PH> tags, you simply translate the text inside the <TEXT> tag and return it in the initial format\n",
    "\n",
    "### Output Format:\n",
    "<document>\n",
    "<TEXT>\n",
    "  ...translated text with embedded <PH id=\"...\" original=\"...\"/> tags...\n",
    "</TEXT>\n",
    "</document>\n",
    "\n",
    "Don't cover the output in any Markdown or XML environments like (```) etc. \n",
    "\n",
    "### Provided Input:\n",
    "\n",
    "#### Old Source:\n",
    "[OLD_SRC]\n",
    "\n",
    "#### Old Translation:\n",
    "[OLD_TGT]\n",
    "\n",
    "#### New Source:\n",
    "[NEW_SRC]\n",
    "\n",
    "Now provide the updated translation:\n",
    "'''"
   ]
  },
  {
   "cell_type": "code",
   "execution_count": 19,
   "id": "99f8871b-f36e-4b35-aff9-a7dd7f5fe1cb",
   "metadata": {},
   "outputs": [],
   "source": [
    "f_old_src = r'''\n",
    "Or dans notre hypothèse d'Univers de symétrie maximale, rappelons tout d'abord qu'on peut définir un temps cosmique, universel,  en utilisant l'évolution physique de l'Univers comme une horloge (densité de matière, température du CMB...). Les hypersurfaces de l'espace-temps paramétrées par ce temps universel sont alors elles-mêmes des sous-espaces de symétrie maximale. Les tenseurs $\\mathcal{T}$ représentants des observables cosmologiques de tels sous-espaces de symétrie maximale doivent alors être de _forme invariante_ c'est-à-dire qu'ils restent les mêmes fonctions des coordonnées spatiales à une date $t$ quelque soit le choix du système de coordonnées choisi : si on passe d'un système $x^\\rho$ à $x'^\\rho$, on doit avoir $\\mathcal{T}'_{\\mu\\nu\\ldots}(x'^\\rho) = \\mathcal{T}_{\\mu\\nu\\ldots}(x'^\\rho)$. Intuitivement, si $\\mathcal{T}$ est le tenseur énergie-impulsion cela revient entre autre à demander que la densité d'énergie soit identique en tout point pour tout choix de système de coordonnées {cite:p}`Weinberg1972`[p. 409]. On peut démontrer alors une propriété importante concernant la forme que doivent prendre les tenseurs de ces sous-espaces {cite:p}`Weinberg1972`[p. 392].\n",
    "'''\n"
   ]
  },
  {
   "cell_type": "code",
   "execution_count": 8,
   "id": "655faa70-6ab6-409c-aa43-c0bf4f2312a3",
   "metadata": {},
   "outputs": [],
   "source": [
    "huy = r'''Enfin, l’algèbre linéaire numérique repose largement sur la décomposition LU et la factorisation QR'''"
   ]
  },
  {
   "cell_type": "code",
   "execution_count": 4,
   "id": "4680add4-e8d0-496e-839f-82520149fec0",
   "metadata": {},
   "outputs": [],
   "source": [
    "old_tgt = r'''\n",
    "Now, in our hypothesis of a Universe of maximum symmetry, let's first recall that we can define a cosmic, universal time, using the physical evolution of the Universe as a clock (matter density, CMB temperature...). The hypersurfaces of space-time parametrized by this universal time are then themselves subspaces of maximum symmetry. The $\\mathcal{T}$ tensors representing the cosmological observables of such maximally symmetric subspaces must then be of _form invariant_, i.e. they remain the same functions of the spatial coordinates at a date $t$ whatever the chosen coordinate system: if we go from a $x^\\rho$ system to $x'^\\rho$, we must have $\\mathcal{T}'_{\\mu\\nu\\ldots}(x'^\\rho) = \\mathcal{T}_{\\mu\\nu\\ldots}(x'^\\rho)$. Intuitively, if $\\mathcal{T}$ is the energy-momentum tensor, this means, among other things, that the energy density must be identical at all points for any choice of coordinate system {cite:p}`Weinberg1972`[p. 409]. We can then demonstrate an important property concerning the form that the tensors of these subspaces {cite:p}`Weinberg1972`[p. 392] must take.\n",
    "'''"
   ]
  },
  {
   "cell_type": "code",
   "execution_count": 5,
   "id": "86811c51-e2d8-4090-adf2-52057e14187e",
   "metadata": {},
   "outputs": [],
   "source": [
    "new_src = r'''\n",
    "Or dans notre hypothèse d’Univers de symétrie maximale, rappelons tout d’abord qu’on peut définir un temps cosmique, universel, en utilisant l’évolution physique de l’Univers comme une horloge (densité de matière, température du CMB…). Les hypersurfaces de l’espace-temps paramétrées par ce temps universel sont alors elles-mêmes des sous-espaces de symétrie maximale. Les tenseurs $\\mathcal{T}$ représentants des observables cosmologiques de tels sous-espaces de symétrie maximale doivent alors être de forme invariante c’est-à-dire qu’ils restent les mêmes fonctions des coordonnées spatiales à une date $t$ quelque soit le choix du système de coordonnées choisi : si on passe d’un système $x^\\rho$ à $x’^\\rho$, on doit avoir $\\mathcal{T}’{\\mu\\nu\\ldots}(x’^\\rho) = \\mathcal{T}{\\mu\\nu\\ldots}(x’^\\rho)$. Intuitivement, si $\\mathcal{T}$ est le tenseur énergie-impulsion, cela revient entre autre à demander que la densité d’énergie soit identique en tout point pour tout choix de système de coordonnées {cite:p}Weinberg1972[p. 409]. Cette propriété implique également que les lois de conservation physiques associées à ces tenseurs, comme celles de l’énergie ou de la quantité de mouvement, s’expriment de manière identique quelle que soit la position ou l’orientation de l’observateur. On peut démontrer alors une propriété importante concernant la forme que doivent prendre les tenseurs de ces sous-espaces {cite:p}Weinberg1972[p. 392].\n",
    "'''\n"
   ]
  },
  {
   "cell_type": "code",
   "execution_count": 6,
   "id": "feb52626-ca8a-41e7-85fd-617d1793b10d",
   "metadata": {},
   "outputs": [],
   "source": [
    "tgt_lang = \"English\"\n",
    "src_lang = \"French\""
   ]
  },
  {
   "cell_type": "code",
   "execution_count": 14,
   "id": "6f6614af-deb9-4097-8a95-e2e54d6182c1",
   "metadata": {},
   "outputs": [],
   "source": [
    "(old_src, old_tgt) = (r'''Enfin, l’algèbre linéaire numérique repose largement sur la\n",
    "décomposition LU et la factorisation QR, qui permettent de résoudre\n",
    "efficacement des systèmes linéaires et de calculer des valeurs\n",
    "propres.\n",
    "\\Sage intègre des interfaces vers les bibliothèques LAPACK et BLAS,\n",
    "assurant des performances comparables aux programmes spécialisés.''',\n",
    " r'''Numerical linear algebra relies heavily on LU decomposition and QR\n",
    "factorisation, which efficiently solve linear systems and compute\n",
    "eigenvalues.  \\Sage interfaces to the LAPACK and BLAS libraries,\n",
    "providing performance on par with dedicated programs.''')\n",
    "\n",
    "new_src = r'''Enfin, l’algèbre linéaire numérique repose largement sur la\n",
    "décomposition LU et la factorisation QR (deux méthodes fondamentales dans l'algèbre linéaire), qui permettent de résoudre\n",
    "efficacement des systèmes linéaires et de calculer des valeurs et vecteurs\n",
    "propres.\n",
    "\\Sage intègre des interfaces vers les bibliothèques LAPACK et BLAS,\n",
    "assurant des performances comparables aux programmes spécialisés.'''"
   ]
  },
  {
   "cell_type": "code",
   "execution_count": 22,
   "id": "45ae21ec-69a2-4905-8b91-696afe0cf99d",
   "metadata": {},
   "outputs": [
    {
     "data": {
      "text/plain": [
       "0.014018691588785047"
      ]
     },
     "execution_count": 22,
     "metadata": {},
     "output_type": "execute_result"
    }
   ],
   "source": [
    "diff_score(\"Idi nahuy, l'algèbre linéaire\", new_src)\n",
    "# diff_opcodes(old_src, new_src)"
   ]
  },
  {
   "cell_type": "code",
   "execution_count": 17,
   "id": "2ba2761b-aba1-4f41-9313-c641494a786a",
   "metadata": {},
   "outputs": [],
   "source": [
    "old_src_xml = latex_to_xml(old_src)[0]\n",
    "old_tgt_xml = latex_to_xml(old_tgt)[0]"
   ]
  },
  {
   "cell_type": "code",
   "execution_count": 18,
   "id": "91561699-bf55-419d-b743-c1cf4e5235e5",
   "metadata": {},
   "outputs": [
    {
     "data": {
      "text/plain": [
       "'<document><TEXT>Enfin, l’algèbre linéaire numérique repose largement sur la\\ndécomposition LU et la factorisation QR, qui permettent de résoudre\\nefficacement des systèmes linéaires et de calculer des valeurs\\npropres.\\n<PH id=\"1\" original=\"\\\\Sage \" />intègre des interfaces vers les bibliothèques LAPACK et BLAS,\\nassurant des performances comparables aux programmes spécialisés.</TEXT></document>'"
      ]
     },
     "execution_count": 18,
     "metadata": {},
     "output_type": "execute_result"
    }
   ],
   "source": [
    "old_src_xml"
   ]
  },
  {
   "cell_type": "markdown",
   "id": "d2b096fc-7009-4912-8ac1-a15b91174707",
   "metadata": {},
   "source": [
    "### gemini translation"
   ]
  },
  {
   "cell_type": "code",
   "execution_count": 19,
   "id": "4341ea61-fc10-4f7e-a880-864b75f41252",
   "metadata": {},
   "outputs": [],
   "source": [
    "new_src_xml, new_src_ph = latex_to_xml(new_src)"
   ]
  },
  {
   "cell_type": "code",
   "execution_count": 20,
   "id": "919e32b4-4288-42ad-8648-6989b3a7ac4d",
   "metadata": {},
   "outputs": [
    {
     "data": {
      "text/plain": [
       "{'1': '\\\\Sage '}"
      ]
     },
     "execution_count": 20,
     "metadata": {},
     "output_type": "execute_result"
    }
   ],
   "source": [
    "new_src_ph"
   ]
  },
  {
   "cell_type": "code",
   "execution_count": 21,
   "id": "ca1a6a0c-2174-47eb-9ad7-0583fc8f748e",
   "metadata": {},
   "outputs": [],
   "source": [
    "final_prompt = prompt.replace(\"[OLD_SRC]\", old_src_xml).replace(\"[OLD_TGT]\", old_tgt_xml).replace(\"[NEW_SRC]\", new_src).replace(\"[TARGET_LANGUAGE]\", tgt_lang).replace(\"[SOURCE_LANGUAGE]\", src_lang)"
   ]
  },
  {
   "cell_type": "code",
   "execution_count": 22,
   "id": "6e7e9b7e-9985-4b1e-8136-60d771f6f826",
   "metadata": {},
   "outputs": [],
   "source": [
    "res = await _ask_gemini_model(final_prompt, \"gemini-2.0-flash\")"
   ]
  },
  {
   "cell_type": "code",
   "execution_count": 23,
   "id": "6e86039b-df44-493b-896c-0023192b9a6f",
   "metadata": {},
   "outputs": [
    {
     "data": {
      "text/plain": [
       "'<document><TEXT>Numerical linear algebra relies heavily on LU decomposition and QR\\nfactorisation, which efficiently solve linear systems and compute\\neigenvalues and eigenvectors.  <PH id=\"1\" original=\"\\\\Sage \" />interfaces to the LAPACK and BLAS libraries,\\nproviding performance on par with dedicated programs.</TEXT></document>\\n'"
      ]
     },
     "execution_count": 23,
     "metadata": {},
     "output_type": "execute_result"
    }
   ],
   "source": [
    "res"
   ]
  },
  {
   "cell_type": "code",
   "execution_count": 24,
   "id": "9e9e701f-10a4-4ff4-b5ef-0b660951e9b0",
   "metadata": {},
   "outputs": [
    {
     "data": {
      "text/plain": [
       "'Numerical linear algebra relies heavily on LU decomposition and QR\\nfactorisation, which efficiently solve linear systems and compute\\neigenvalues and eigenvectors.  \\\\Sage interfaces to the LAPACK and BLAS libraries,\\nproviding performance on par with dedicated programs.'"
      ]
     },
     "execution_count": 24,
     "metadata": {},
     "output_type": "execute_result"
    }
   ],
   "source": [
    "reconstruct_from_xml(res, new_src_ph)"
   ]
  },
  {
   "cell_type": "markdown",
   "id": "e331845d-bb59-4aac-b6d1-eed63b8e65a3",
   "metadata": {},
   "source": [
    "### aristote translation"
   ]
  },
  {
   "cell_type": "code",
   "execution_count": 38,
   "id": "c056a63d-d8d0-4e6c-a301-6bba70fe2755",
   "metadata": {},
   "outputs": [],
   "source": [
    "res = await _ask_aristote(final_prompt)"
   ]
  },
  {
   "cell_type": "code",
   "execution_count": 39,
   "id": "06f78d79-8889-479c-95fc-de2ca7683d8e",
   "metadata": {},
   "outputs": [
    {
     "data": {
      "text/plain": [
       "\"\\nNow, in our hypothesis of a Universe of maximum symmetry, let's first recall that we can define a cosmic, universal time, using the physical evolution of the Universe as a clock (matter density, CMB temperature...). The hypersurfaces of space-time parametrized by this universal time are then themselves subspaces of maximum symmetry. The $\\\\mathcal{T}$ tensors representing the cosmological observables of such maximally symmetric subspaces must then be of form invariant, i.e. they remain the same functions of the spatial coordinates at a date $t$ whatever the chosen coordinate system: if we go from a $x^\\\\rho$ system to $x’^\\\\rho$, we must have $\\\\mathcal{T}’{\\\\mu\\\\nu\\\\ldots}(x’^\\\\rho) = \\\\mathcal{T}{\\\\mu\\\\nu\\\\ldots}(x’^\\\\rho)$. Intuitively, if $\\\\mathcal{T}$ is the energy-momentum tensor, this means, among other things, that the energy density must be identical at all points for any choice of coordinate system {cite:p}`Weinberg1972`[p. 409]. This property also implies that the physical conservation laws associated with these tensors, such as those of energy or momentum, are expressed in an identical manner regardless of the observer's position or orientation. We can then demonstrate an important property concerning the form that the tensors of these subspaces {cite:p}`Weinberg1972`[p. 392] must take.\\n\""
      ]
     },
     "execution_count": 39,
     "metadata": {},
     "output_type": "execute_result"
    }
   ],
   "source": [
    "reconstruct_from_xml(res, new_src_ph)"
   ]
  },
  {
   "cell_type": "code",
   "execution_count": 27,
   "id": "2232ab1d-7d7f-4820-b241-0528014e9ce1",
   "metadata": {},
   "outputs": [],
   "source": [
    "async def usual_translation(chunk: str, src_lang: str, tgt_lang: str) -> str:\n",
    "    local_prompt = r'''\n",
    "    You are tasked with translating scientific text from [SOURCE_LANGUAGE] to [TARGET_LANGUAGE] using a structured XML format.\n",
    "    \n",
    "    The document is composed of <TEXT> elements that contain the full translatable content (sentences or paragraphs), interleaved with <PH> tags for non-translatable content such as LaTeX commands, math expressions, or code.\n",
    "    Instructions:\n",
    "        - Translate only the content inside <TEXT> tags, excluding anything inside <PH> tags.\n",
    "        - Do not remove, modify any <PH/> tags or their attributes.\n",
    "        - Use the original attribute of each <PH/> tag to understand the context and grammar. This will help you make correct translation decisions (e.g., for plurality, case, or syntax), but you must not change or translate the contents of the <PH> tags themselves.\n",
    "        - Treat each <TEXT> block as a complete sentence or paragraph. You may reorder words, adjust structure, and apply natural grammar in the target language — as long as all <PH> tags remain in place and unchanged.\n",
    "        - Your response must contain only the translated XML — return the modified <TEXT> block with embedded <PH> tags and nothing else (no explanations, no markdown, no prefix/suffix text).\n",
    "        - All <PH> tags must be self-closing and written in the form: \n",
    "            <PH id=\"...\" original=\"...\"/>\n",
    "        - Do not produce </PH> closing tags, and do not place content inside <PH> elements. Any other structure is invalid and will break XML parsing.\n",
    "        - If the provided chunk doesn't contain any <PH> tags, you simply translate the text inside the <TEXT> tag and return it in the initial format.\n",
    "            Example (Spanish to Ukrainian):\n",
    "                Input:\n",
    "                ```\n",
    "                <document><TEXT>El gato duerme en la silla.</TEXT><document>\n",
    "                ```\n",
    "                Output:\n",
    "                ```\n",
    "                <document><TEXT>Кіт спить на стільці.</TEXT><document>\n",
    "                ```\n",
    "    Output Format:\n",
    "    <document>\n",
    "    <TEXT>\n",
    "      ...translated text and inline <PH id=\"...\" original=\"...\"/> tags (if such presented in the input)...\n",
    "    </TEXT>\n",
    "    </document>\n",
    "    \n",
    "    Don't cover the output in any Markdown or XML environments like (```) etc. \n",
    "    \n",
    "    The document is provided below:\n",
    "    '''\n",
    "    local_prompt = local_prompt.replace(\"[TARGET_LANGUAGE]\", tgt_lang).replace(\"[SOURCE_LANGUAGE]\", src_lang)\n",
    "    local_prompt += chunk\n",
    "    return await _ask_gemini_model(local_prompt, \"gemini-2.0-flash\")"
   ]
  },
  {
   "cell_type": "code",
   "execution_count": 40,
   "id": "9b91225a-15a1-45bc-99ba-eb8e2e119a52",
   "metadata": {},
   "outputs": [
    {
     "data": {
      "text/plain": [
       "\"\\nOr dans notre hypothèse d'Univers de symétrie maximale, rappelons tout d'abord qu'on peut définir un temps cosmique, universel,  en utilisant l'évolution physique de l'Univers comme une horloge (densité de matière, température du CMB...). Les hypersurfaces de l'espace-temps paramétrées par ce temps universel sont alors elles-mêmes des sous-espaces de symétrie maximale. Les tenseurs $\\\\mathcal{T}$ représentants des observables cosmologiques de tels sous-espaces de symétrie maximale doivent alors être de _forme invariante_ c'est-à-dire qu'ils restent les mêmes fonctions des coordonnées spatiales à une date $t$ quelque soit le choix du système de coordonnées choisi : si on passe d'un système $x^\\\\rho$ à $x'^\\\\rho$, on doit avoir $\\\\mathcal{T}'_{\\\\mu\\\\nu\\\\ldots}(x'^\\\\rho) = \\\\mathcal{T}_{\\\\mu\\\\nu\\\\ldots}(x'^\\\\rho)$. Intuitivement, si $\\\\mathcal{T}$ est le tenseur énergie-impulsion cela revient entre autre à demander que la densité d'énergie soit identique en tout point pour tout choix de système de coordonnées {cite:p}`Weinberg1972`[p. 409]. On peut démontrer alors une propriété importante concernant la forme que doivent prendre les tenseurs de ces sous-espaces {cite:p}`Weinberg1972`[p. 392].\\n\""
      ]
     },
     "execution_count": 40,
     "metadata": {},
     "output_type": "execute_result"
    }
   ],
   "source": [
    "old_src"
   ]
  },
  {
   "cell_type": "code",
   "execution_count": 41,
   "id": "e896a826-d784-420d-81b4-5a96373eafbf",
   "metadata": {},
   "outputs": [],
   "source": [
    "old_src_xml, old_src_ph = latex_to_xml(old_src)"
   ]
  },
  {
   "cell_type": "code",
   "execution_count": 30,
   "id": "d76f7b13-e5a6-4963-9f90-2cbf268b102c",
   "metadata": {},
   "outputs": [
    {
     "data": {
      "text/plain": [
       "'<document><TEXT>In our hypothesis of a Universe with maximal symmetry, let us first recall that we can define a cosmic, universal time, by using the physical evolution of the Universe as a clock (matter density, CMB temperature, etc.). The space-time hypersurfaces parameterized by this universal time are then themselves subspaces of maximal symmetry. The tensors <PH id=\"1\" original=\"$\\\\mathcal{T}$\"/> representing cosmological observables of such subspaces of maximal symmetry must then be of _invariant form_, that is to say that they remain the same functions of the spatial coordinates at a date <PH id=\"2\" original=\"$t$\"/> regardless of the choice of the coordinate system chosen: if we move from a system <PH id=\"3\" original=\"$x^\\\\rho$\"/> to <PH id=\"4\" original=\"$x\\'^\\\\rho$\"/>, we must have <PH id=\"5\" original=\"$\\\\mathcal{T}\\'_{\\\\mu\\\\nu\\\\ldots}(x\\'^\\\\rho) = \\\\mathcal{T}_{\\\\mu\\\\nu\\\\ldots}(x\\'^\\\\rho)$\"/>. Intuitively, if <PH id=\"6\" original=\"$\\\\mathcal{T}$\"/> is the energy-momentum tensor, this amounts, among other things, to requiring that the energy density be identical at every point for any choice of coordinate system <PH id=\"7\" original=\"{\" />cite:p<PH id=\"8\" original=\"}\" />`Weinberg1972`[p. 409]. We can then demonstrate an important property concerning the form that the tensors of these subspaces must take <PH id=\"9\" original=\"{\" />cite:p<PH id=\"10\" original=\"}\" />`Weinberg1972`[p. 392].\\n</TEXT></document>'"
      ]
     },
     "execution_count": 30,
     "metadata": {},
     "output_type": "execute_result"
    }
   ],
   "source": [
    "await usual_translation(old_src_xml, \"French\", \"English\")"
   ]
  },
  {
   "cell_type": "code",
   "execution_count": null,
   "id": "69d76074-4d3d-4634-ade3-9cccbddb8f5f",
   "metadata": {},
   "outputs": [],
   "source": []
  }
 ],
 "metadata": {
  "kernelspec": {
   "display_name": "Python 3 (ipykernel)",
   "language": "python",
   "name": "python3"
  },
  "language_info": {
   "codemirror_mode": {
    "name": "ipython",
    "version": 3
   },
   "file_extension": ".py",
   "mimetype": "text/x-python",
   "name": "python",
   "nbconvert_exporter": "python",
   "pygments_lexer": "ipython3",
   "version": "3.12.9"
  }
 },
 "nbformat": 4,
 "nbformat_minor": 5
}
