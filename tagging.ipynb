{
 "cells": [
  {
   "cell_type": "code",
   "execution_count": 1,
   "id": "e472e56e-632e-4c95-a4c0-dc6a618d9ecf",
   "metadata": {},
   "outputs": [
    {
     "name": "stdout",
     "output_type": "stream",
     "text": [
      "Collecting pylatexenc\n",
      "  Using cached pylatexenc-2.10-py3-none-any.whl\n",
      "Installing collected packages: pylatexenc\n",
      "Successfully installed pylatexenc-2.10\n"
     ]
    }
   ],
   "source": [
    "!pip install pylatexenc"
   ]
  },
  {
   "cell_type": "code",
   "execution_count": 2,
   "id": "fa643f50-9309-4322-8d53-9cc365b4d9b2",
   "metadata": {},
   "outputs": [
    {
     "name": "stdout",
     "output_type": "stream",
     "text": [
      "Collecting google-genai\n",
      "  Using cached google_genai-1.20.0-py3-none-any.whl.metadata (35 kB)\n",
      "Requirement already satisfied: anyio<5.0.0,>=4.8.0 in /opt/conda/lib/python3.12/site-packages (from google-genai) (4.9.0)\n",
      "Collecting google-auth<3.0.0,>=2.14.1 (from google-genai)\n",
      "  Using cached google_auth-2.40.3-py2.py3-none-any.whl.metadata (6.2 kB)\n",
      "Requirement already satisfied: httpx<1.0.0,>=0.28.1 in /opt/conda/lib/python3.12/site-packages (from google-genai) (0.28.1)\n",
      "Requirement already satisfied: pydantic<3.0.0,>=2.0.0 in /opt/conda/lib/python3.12/site-packages (from google-genai) (2.11.2)\n",
      "Requirement already satisfied: requests<3.0.0,>=2.28.1 in /opt/conda/lib/python3.12/site-packages (from google-genai) (2.32.3)\n",
      "Collecting websockets<15.1.0,>=13.0.0 (from google-genai)\n",
      "  Using cached websockets-15.0.1-cp312-cp312-manylinux_2_5_x86_64.manylinux1_x86_64.manylinux_2_17_x86_64.manylinux2014_x86_64.whl.metadata (6.8 kB)\n",
      "Requirement already satisfied: typing-extensions<5.0.0,>=4.11.0 in /opt/conda/lib/python3.12/site-packages (from google-genai) (4.13.1)\n",
      "Requirement already satisfied: idna>=2.8 in /opt/conda/lib/python3.12/site-packages (from anyio<5.0.0,>=4.8.0->google-genai) (3.10)\n",
      "Requirement already satisfied: sniffio>=1.1 in /opt/conda/lib/python3.12/site-packages (from anyio<5.0.0,>=4.8.0->google-genai) (1.3.1)\n",
      "Collecting cachetools<6.0,>=2.0.0 (from google-auth<3.0.0,>=2.14.1->google-genai)\n",
      "  Using cached cachetools-5.5.2-py3-none-any.whl.metadata (5.4 kB)\n",
      "Collecting pyasn1-modules>=0.2.1 (from google-auth<3.0.0,>=2.14.1->google-genai)\n",
      "  Using cached pyasn1_modules-0.4.2-py3-none-any.whl.metadata (3.5 kB)\n",
      "Collecting rsa<5,>=3.1.4 (from google-auth<3.0.0,>=2.14.1->google-genai)\n",
      "  Using cached rsa-4.9.1-py3-none-any.whl.metadata (5.6 kB)\n",
      "Requirement already satisfied: certifi in /opt/conda/lib/python3.12/site-packages (from httpx<1.0.0,>=0.28.1->google-genai) (2025.1.31)\n",
      "Requirement already satisfied: httpcore==1.* in /opt/conda/lib/python3.12/site-packages (from httpx<1.0.0,>=0.28.1->google-genai) (1.0.7)\n",
      "Requirement already satisfied: h11<0.15,>=0.13 in /opt/conda/lib/python3.12/site-packages (from httpcore==1.*->httpx<1.0.0,>=0.28.1->google-genai) (0.14.0)\n",
      "Requirement already satisfied: annotated-types>=0.6.0 in /opt/conda/lib/python3.12/site-packages (from pydantic<3.0.0,>=2.0.0->google-genai) (0.7.0)\n",
      "Requirement already satisfied: pydantic-core==2.33.1 in /opt/conda/lib/python3.12/site-packages (from pydantic<3.0.0,>=2.0.0->google-genai) (2.33.1)\n",
      "Requirement already satisfied: typing-inspection>=0.4.0 in /opt/conda/lib/python3.12/site-packages (from pydantic<3.0.0,>=2.0.0->google-genai) (0.4.0)\n",
      "Requirement already satisfied: charset_normalizer<4,>=2 in /opt/conda/lib/python3.12/site-packages (from requests<3.0.0,>=2.28.1->google-genai) (3.4.1)\n",
      "Requirement already satisfied: urllib3<3,>=1.21.1 in /opt/conda/lib/python3.12/site-packages (from requests<3.0.0,>=2.28.1->google-genai) (2.3.0)\n",
      "Collecting pyasn1<0.7.0,>=0.6.1 (from pyasn1-modules>=0.2.1->google-auth<3.0.0,>=2.14.1->google-genai)\n",
      "  Using cached pyasn1-0.6.1-py3-none-any.whl.metadata (8.4 kB)\n",
      "Using cached google_genai-1.20.0-py3-none-any.whl (203 kB)\n",
      "Using cached google_auth-2.40.3-py2.py3-none-any.whl (216 kB)\n",
      "Using cached websockets-15.0.1-cp312-cp312-manylinux_2_5_x86_64.manylinux1_x86_64.manylinux_2_17_x86_64.manylinux2014_x86_64.whl (182 kB)\n",
      "Using cached cachetools-5.5.2-py3-none-any.whl (10 kB)\n",
      "Using cached pyasn1_modules-0.4.2-py3-none-any.whl (181 kB)\n",
      "Using cached rsa-4.9.1-py3-none-any.whl (34 kB)\n",
      "Using cached pyasn1-0.6.1-py3-none-any.whl (83 kB)\n",
      "Installing collected packages: websockets, pyasn1, cachetools, rsa, pyasn1-modules, google-auth, google-genai\n",
      "Successfully installed cachetools-5.5.2 google-auth-2.40.3 google-genai-1.20.0 pyasn1-0.6.1 pyasn1-modules-0.4.2 rsa-4.9.1 websockets-15.0.1\n"
     ]
    }
   ],
   "source": [
    "!pip install google-genai"
   ]
  },
  {
   "cell_type": "code",
   "execution_count": 3,
   "id": "a19668a0-5e64-4952-af98-01f985499ce5",
   "metadata": {},
   "outputs": [],
   "source": [
    "import logging\n",
    "import re\n",
    "import os\n",
    "from pylatexenc.latexwalker import (LatexWalker, LatexCharsNode, LatexMacroNode,\n",
    "                                  LatexEnvironmentNode, LatexMathNode, LatexGroupNode)\n",
    "\n",
    "import xml.etree.ElementTree as ET\n",
    "import json\n",
    "from itertools import groupby\n",
    "from pathlib import Path"
   ]
  },
  {
   "cell_type": "code",
   "execution_count": 4,
   "id": "44c348a8-ea54-4b93-8723-398c0ef5416a",
   "metadata": {},
   "outputs": [],
   "source": [
    "import requests\n",
    "\n",
    "from google import genai\n",
    "from google.genai import types as g_types\n",
    "\n",
    "from helper import _finalize_prompt, _prepare_prompt_for_language, return_comparison, _ask_gemini_model, _ask_gemma_model, _ask_aristote, extract_translated_from_response"
   ]
  },
  {
   "cell_type": "code",
   "execution_count": 14,
   "id": "319920a4-a316-41a1-8977-8f92d95f3e38",
   "metadata": {},
   "outputs": [],
   "source": [
    "\n",
    "\n",
    "class LatexParser:\n",
    "    \"\"\"\n",
    "    Parses LaTeX content using a context-aware, recursive walker. It uses the\n",
    "    parser's positional information and node lengths to robustly segment the document.\n",
    "    \"\"\"\n",
    "    def __init__(self, placeholder_commands: list = [], placeholder_envs: list = [], placeholders_with_text: list = []):\n",
    "        # Configuration attributes\n",
    "        self.placeholder_commands = {'ref', 'cite', 'label', 'includegraphics', 'input', 'include', 'frac', 'sqrt', 'path', 'url', 'href', 'footnote', '\\\\'}\n",
    "        self.placeholder_envs = {'verbatim', 'Verbatim', 'lstlisting'}\n",
    "        self.math_text_macros = {'text', 'mathrm'}\n",
    "\n",
    "        if len(placeholder_commands) != 0:\n",
    "            self.placeholder_commands.update(placeholder_commands)\n",
    "        if len(placeholder_envs) != 0:\n",
    "            self.placeholder_envs.update(placeholder_envs)\n",
    "        if len(placeholders_with_text) != 0:\n",
    "            self.math_text_macros.update(placeholders_with_text)\n",
    "            \n",
    "        \n",
    "        # State attributes\n",
    "        self.segments = []\n",
    "        self.latex_content = \"\"\n",
    "\n",
    "    def parse(self, latex_content):\n",
    "        \"\"\"Public method to start the parsing process.\"\"\"\n",
    "        self.segments = []\n",
    "        self.latex_content = latex_content\n",
    "        lw = LatexWalker(latex_content)\n",
    "        nodelist, _, _ = lw.get_latex_nodes()\n",
    "        self._walk_text_nodes(nodelist)\n",
    "        return self.segments\n",
    "\n",
    "    def _add_placeholder(self, content):\n",
    "        if content: self.segments.append(('placeholder', content))\n",
    "\n",
    "    def _add_text(self, content):\n",
    "        if content.strip(): self.segments.append(('text', content))\n",
    "        elif content: self.segments.append(('placeholder', content))\n",
    "\n",
    "    def _process_chars_node(self, node):\n",
    "        parts = re.split(r'(&)', node.chars)\n",
    "        for part in parts:\n",
    "            if not part: continue\n",
    "            if part == '&': self._add_placeholder(part)\n",
    "            else: self._add_text(part)\n",
    "\n",
    "    def _walk_text_nodes(self, nodelist):\n",
    "        \"\"\"Recursively processes nodes in 'text' mode.\"\"\"\n",
    "        if nodelist is None: return\n",
    "            \n",
    "        for node in nodelist:\n",
    "            if node.isNodeType(LatexCharsNode):\n",
    "                self._process_chars_node(node)\n",
    "            elif node.isNodeType(LatexMathNode):\n",
    "                self._add_placeholder(node.delimiters[0])\n",
    "                self._walk_math_nodes(node.nodelist)\n",
    "                self._add_placeholder(node.delimiters[1])\n",
    "            elif node.isNodeType(LatexGroupNode):\n",
    "                self._add_placeholder('{')\n",
    "                self._walk_text_nodes(node.nodelist)\n",
    "                self._add_placeholder('}')\n",
    "            elif node.isNodeType(LatexMacroNode):\n",
    "                if node.macroname in self.placeholder_commands:\n",
    "                    self._add_placeholder(node.latex_verbatim())\n",
    "                else:\n",
    "                    self._add_placeholder(f\"\\\\{node.macroname}{node.macro_post_space}\")\n",
    "                    if node.nodeargs:\n",
    "                        for arg_node in node.nodeargs:\n",
    "                            self._walk_text_nodes([arg_node])\n",
    "            elif node.isNodeType(LatexEnvironmentNode):\n",
    "                envname = node.environmentname\n",
    "                if envname in self.placeholder_envs:\n",
    "                    self._add_placeholder(node.latex_verbatim())\n",
    "                else:\n",
    "                    if not node.nodelist:\n",
    "                        self._add_placeholder(node.latex_verbatim())\n",
    "                        continue\n",
    "\n",
    "                    content_start_pos = node.nodelist[0].pos\n",
    "                    last_node = node.nodelist[-1]\n",
    "                    content_end_pos = last_node.pos + last_node.len\n",
    "\n",
    "                    begin_placeholder = self.latex_content[node.pos:content_start_pos]\n",
    "                    self._add_placeholder(begin_placeholder)\n",
    "\n",
    "                    self._walk_text_nodes(node.nodelist)\n",
    "\n",
    "                    end_placeholder = self.latex_content[content_end_pos:(node.pos + node.len)]\n",
    "                    self._add_placeholder(end_placeholder)\n",
    "            else:\n",
    "                self._add_placeholder(node.latex_verbatim())\n",
    "\n",
    "    def _walk_math_nodes(self, nodelist):\n",
    "        \"\"\"Recursively processes nodes in 'math' mode.\"\"\"\n",
    "        if nodelist is None: return\n",
    "        for node in nodelist:\n",
    "            if node.isNodeType(LatexMacroNode) and node.macroname in self.math_text_macros:\n",
    "                self._add_placeholder(f\"\\\\{node.macroname}\")\n",
    "                if node.nodeargs:\n",
    "                    for arg_node in node.nodeargs:\n",
    "                        self._walk_text_nodes([arg_node])\n",
    "            else:\n",
    "                self._add_placeholder(node.latex_verbatim())\n",
    "\n",
    "def parse_latex(latex_content):\n",
    "    \"\"\"High-level function to instantiate and use the LatexParser.\"\"\"\n",
    "    parser = LatexParser()\n",
    "    return parser.parse(latex_content)"
   ]
  },
  {
   "cell_type": "code",
   "execution_count": 15,
   "id": "9820b40d-d89f-43ea-ac00-030b1cc221fc",
   "metadata": {},
   "outputs": [],
   "source": [
    "text_contents = r'''\n",
    "\\begin{theorem}.\n",
    "    \\begin{enumerate}\n",
    "        \\item Soit $U_i$,  $i \\in I$ une collection d'ouverts. Alors,  $\\cup_{i \\in I} \\,U_i$ est ouvert.\\\\\n",
    "            Translate: Une union quelconque des ensembles ouverts est ouvert.\n",
    "        \\item Si $U_1, \\ldots, U_n$ sont ouverts\n",
    "            \\[\n",
    "                \\bigcap\\limits_{i=1}^{n} \\, U_i \\text{ est ouvert.}\n",
    "            \\] \n",
    "            Translate: intersection \\underline{finie} des ensembles ouverts est ouvert.\n",
    "    \\end{enumerate}\n",
    "    \\begin{enumerate}\n",
    "        \\item Soit $U_i$,  $i \\in I$ une collection de fermés. Alors,  $\\cup_{i \\in I} \\,U_i$ est fermé.\\\\\n",
    "            Translate: Une union quelconque des ensembles fermés est fermé.\n",
    "        \\item Si $U_1, \\ldots, U_n$ sont fermés \n",
    "            \\[\n",
    "                \\bigcap\\limits_{i=1}^{n} \\, U_i \\text{ est fermé.}\n",
    "            \\] \n",
    "            Translate: intersection \\underline{finie} des ensembles fermés est fermé.\n",
    "    \\end{enumerate}\n",
    "\\end{theorem}\n",
    "'''"
   ]
  },
  {
   "cell_type": "code",
   "execution_count": 16,
   "id": "b8848407-8c82-49f8-adf9-4555d5b9bcac",
   "metadata": {},
   "outputs": [],
   "source": [
    "parsed_res = parse_latex(text_contents)"
   ]
  },
  {
   "cell_type": "code",
   "execution_count": 17,
   "id": "665ce459-857f-49bb-b049-4b6b5beaa764",
   "metadata": {},
   "outputs": [
    {
     "name": "stdout",
     "output_type": "stream",
     "text": [
      "placeholder | '\\n'\n",
      "----\n",
      "placeholder | '\\\\begin{theorem}'\n",
      "----\n",
      "text | '.\\n    '\n",
      "----\n",
      "placeholder | '\\\\begin{enumerate}'\n",
      "----\n",
      "placeholder | '\\n        '\n",
      "----\n",
      "placeholder | '\\\\item '\n",
      "----\n",
      "text | 'Soit '\n",
      "----\n",
      "placeholder | '$'\n",
      "----\n",
      "placeholder | 'U_i'\n",
      "----\n",
      "placeholder | '$'\n",
      "----\n",
      "text | ',  '\n",
      "----\n",
      "placeholder | '$'\n",
      "----\n",
      "placeholder | 'i '\n",
      "----\n",
      "placeholder | '\\\\in '\n",
      "----\n",
      "placeholder | 'I'\n",
      "----\n",
      "placeholder | '$'\n",
      "----\n",
      "text | \" une collection d'ouverts. Alors,  \"\n",
      "----\n",
      "placeholder | '$'\n",
      "----\n",
      "placeholder | '\\\\cup'\n",
      "----\n",
      "placeholder | '_'\n",
      "----\n",
      "placeholder | '{i \\\\in I}'\n",
      "----\n",
      "placeholder | ' '\n",
      "----\n",
      "placeholder | '\\\\,'\n",
      "----\n",
      "placeholder | 'U_i'\n",
      "----\n",
      "placeholder | '$'\n",
      "----\n",
      "text | ' est ouvert.'\n",
      "----\n",
      "placeholder | '\\\\\\\\'\n",
      "----\n",
      "text | '\\n            Translate: Une union quelconque des ensembles ouverts est ouvert.\\n        '\n",
      "----\n",
      "placeholder | '\\\\item '\n",
      "----\n",
      "text | 'Si '\n",
      "----\n",
      "placeholder | '$'\n",
      "----\n",
      "placeholder | 'U_1, '\n",
      "----\n",
      "placeholder | '\\\\ldots'\n",
      "----\n",
      "placeholder | ', U_n'\n",
      "----\n",
      "placeholder | '$'\n",
      "----\n",
      "text | ' sont ouverts\\n            '\n",
      "----\n",
      "placeholder | '\\\\['\n",
      "----\n",
      "placeholder | '\\n                '\n",
      "----\n",
      "placeholder | '\\\\bigcap'\n",
      "----\n",
      "placeholder | '\\\\limits'\n",
      "----\n",
      "placeholder | '_'\n",
      "----\n",
      "placeholder | '{i=1}'\n",
      "----\n",
      "placeholder | '^'\n",
      "----\n",
      "placeholder | '{n}'\n",
      "----\n",
      "placeholder | ' '\n",
      "----\n",
      "placeholder | '\\\\,'\n",
      "----\n",
      "placeholder | ' U_i '\n",
      "----\n",
      "placeholder | '\\\\text'\n",
      "----\n",
      "placeholder | '{'\n",
      "----\n",
      "text | ' est ouvert.'\n",
      "----\n",
      "placeholder | '}'\n",
      "----\n",
      "placeholder | '\\n            '\n",
      "----\n",
      "placeholder | '\\\\]'\n",
      "----\n",
      "text | ' \\n            Translate: intersection '\n",
      "----\n",
      "placeholder | '\\\\underline'\n",
      "----\n",
      "placeholder | '{'\n",
      "----\n",
      "text | 'finie'\n",
      "----\n",
      "placeholder | '}'\n",
      "----\n",
      "text | ' des ensembles ouverts est ouvert.\\n    '\n",
      "----\n",
      "placeholder | '\\\\end{enumerate}'\n",
      "----\n",
      "placeholder | '\\n    '\n",
      "----\n",
      "placeholder | '\\\\begin{enumerate}'\n",
      "----\n",
      "placeholder | '\\n        '\n",
      "----\n",
      "placeholder | '\\\\item '\n",
      "----\n",
      "text | 'Soit '\n",
      "----\n",
      "placeholder | '$'\n",
      "----\n",
      "placeholder | 'U_i'\n",
      "----\n",
      "placeholder | '$'\n",
      "----\n",
      "text | ',  '\n",
      "----\n",
      "placeholder | '$'\n",
      "----\n",
      "placeholder | 'i '\n",
      "----\n",
      "placeholder | '\\\\in '\n",
      "----\n",
      "placeholder | 'I'\n",
      "----\n",
      "placeholder | '$'\n",
      "----\n",
      "text | ' une collection de fermés. Alors,  '\n",
      "----\n",
      "placeholder | '$'\n",
      "----\n",
      "placeholder | '\\\\cup'\n",
      "----\n",
      "placeholder | '_'\n",
      "----\n",
      "placeholder | '{i \\\\in I}'\n",
      "----\n",
      "placeholder | ' '\n",
      "----\n",
      "placeholder | '\\\\,'\n",
      "----\n",
      "placeholder | 'U_i'\n",
      "----\n",
      "placeholder | '$'\n",
      "----\n",
      "text | ' est fermé.'\n",
      "----\n",
      "placeholder | '\\\\\\\\'\n",
      "----\n",
      "text | '\\n            Translate: Une union quelconque des ensembles fermés est fermé.\\n        '\n",
      "----\n",
      "placeholder | '\\\\item '\n",
      "----\n",
      "text | 'Si '\n",
      "----\n",
      "placeholder | '$'\n",
      "----\n",
      "placeholder | 'U_1, '\n",
      "----\n",
      "placeholder | '\\\\ldots'\n",
      "----\n",
      "placeholder | ', U_n'\n",
      "----\n",
      "placeholder | '$'\n",
      "----\n",
      "text | ' sont fermés \\n            '\n",
      "----\n",
      "placeholder | '\\\\['\n",
      "----\n",
      "placeholder | '\\n                '\n",
      "----\n",
      "placeholder | '\\\\bigcap'\n",
      "----\n",
      "placeholder | '\\\\limits'\n",
      "----\n",
      "placeholder | '_'\n",
      "----\n",
      "placeholder | '{i=1}'\n",
      "----\n",
      "placeholder | '^'\n",
      "----\n",
      "placeholder | '{n}'\n",
      "----\n",
      "placeholder | ' '\n",
      "----\n",
      "placeholder | '\\\\,'\n",
      "----\n",
      "placeholder | ' U_i '\n",
      "----\n",
      "placeholder | '\\\\text'\n",
      "----\n",
      "placeholder | '{'\n",
      "----\n",
      "text | ' est fermé.'\n",
      "----\n",
      "placeholder | '}'\n",
      "----\n",
      "placeholder | '\\n            '\n",
      "----\n",
      "placeholder | '\\\\]'\n",
      "----\n",
      "text | ' \\n            Translate: intersection '\n",
      "----\n",
      "placeholder | '\\\\underline'\n",
      "----\n",
      "placeholder | '{'\n",
      "----\n",
      "text | 'finie'\n",
      "----\n",
      "placeholder | '}'\n",
      "----\n",
      "text | ' des ensembles fermés est fermé.\\n    '\n",
      "----\n",
      "placeholder | '\\\\end{enumerate}'\n",
      "----\n",
      "placeholder | '\\n'\n",
      "----\n",
      "placeholder | '\\\\end{theorem}'\n",
      "----\n",
      "placeholder | '\\n'\n",
      "----\n"
     ]
    }
   ],
   "source": [
    "for el in parsed_res:\n",
    "    print(el[0], \"|\", repr(el[1]))\n",
    "    print(\"----\")"
   ]
  },
  {
   "cell_type": "code",
   "execution_count": 18,
   "id": "cb88a8d2-7b81-4def-a9f9-6382d52ab349",
   "metadata": {},
   "outputs": [],
   "source": [
    "def segment_for_translation(segments, output_dir):\n",
    "    \"\"\"\n",
    "    Converts parsed segments into an XML structure with <TEXT> and <PH> tags.\n",
    "\n",
    "    Returns the XML string and the placeholder dictionary.\n",
    "    \"\"\"\n",
    "    root = ET.Element('document')\n",
    "    placeholders = {}\n",
    "    text_id = 1\n",
    "    ph_id = 1\n",
    "\n",
    "    for segment_type, content in segments:\n",
    "        if segment_type == 'text' and content.strip():\n",
    "            # Only create TEXT tags for non-empty, non-whitespace strings\n",
    "            text_elem = ET.SubElement(root, 'TEXT', id=f'text_{text_id}')\n",
    "            text_elem.text = content\n",
    "            text_id += 1\n",
    "        else:\n",
    "            # Everything else is a placeholder\n",
    "            current_ph_id = f'ph_{ph_id}'\n",
    "            ph_elem = ET.SubElement(root, 'PH', id=current_ph_id, original=content)\n",
    "            placeholders[current_ph_id] = content\n",
    "            ph_id += 1\n",
    "\n",
    "    xml_string = ET.tostring(root, encoding='unicode', short_empty_elements=False)\n",
    "    return xml_string, placeholders\n",
    "    # Save placeholders for reconstruction\n",
    "    with open(output_dir / 'placeholders.json', 'w', encoding='utf-8') as f:\n",
    "        json.dump(placeholders, f, indent=2, ensure_ascii=False)\n",
    "        \n",
    "    return xml_string, placeholders"
   ]
  },
  {
   "cell_type": "code",
   "execution_count": 19,
   "id": "b761d71e-1ed2-46f9-90fe-05b1f88d6373",
   "metadata": {},
   "outputs": [],
   "source": [
    "def create_translation_xml(segments, output_dir: Path):\n",
    "    \"\"\"\n",
    "    Converts parsed segments into a single <TEXT> tag containing mixed content\n",
    "    (text and <PH> tags), which is ideal for translation.\n",
    "\n",
    "    - Merges consecutive non-text segments into single <PH> tags.\n",
    "    - Creates one top-level <TEXT> tag.\n",
    "    - Places text nodes and <PH> elements inside the <TEXT> tag.\n",
    "    - Saves a mapping of placeholder IDs to their original content.\n",
    "\n",
    "    Returns:\n",
    "        tuple[str, dict]: A tuple containing the XML string and the placeholder dictionary.\n",
    "    \"\"\"\n",
    "    # -- Step 1: Coalesce consecutive placeholders --\n",
    "    # We group segments by their type. If consecutive segments are placeholders,\n",
    "    # they will be grouped together and we can join their content.\n",
    "    merged_segments = []\n",
    "    for seg_type, group in groupby(segments, key=lambda x: x[0]):\n",
    "        content_parts = [item[1] for item in group]\n",
    "        if seg_type == 'text':\n",
    "            # For text, we don't merge, we just add each part.\n",
    "            # This preserves whitespace between text segments if any.\n",
    "            for content in content_parts:\n",
    "                merged_segments.append(('text', content))\n",
    "        else:\n",
    "            # For placeholders, we join the content of all consecutive items.\n",
    "            merged_content = \"\".join(content_parts)\n",
    "            if merged_content: # Only add if there's content\n",
    "                 merged_segments.append(('placeholder', merged_content))\n",
    "\n",
    "\n",
    "    # -- Step 2: Build the Mixed-Content XML --\n",
    "    root = ET.Element('document')\n",
    "    # All content will go inside a single <TEXT> tag\n",
    "    text_container = ET.SubElement(root, 'TEXT')\n",
    "    \n",
    "    placeholders = {}\n",
    "    ph_id = 1\n",
    "    last_element = None # Keep track of the last <PH> element added\n",
    "\n",
    "    for seg_type, content in merged_segments:\n",
    "        if seg_type == 'text':\n",
    "            if last_element is not None:\n",
    "                # If text follows a <PH> tag, it becomes the .tail of that tag.\n",
    "                last_element.tail = (last_element.tail or '') + content\n",
    "            else:\n",
    "                # If it's the first piece of text, it becomes the .text of the container.\n",
    "                text_container.text = (text_container.text or '') + content\n",
    "        \n",
    "        elif seg_type == 'placeholder':\n",
    "            # Create the placeholder element\n",
    "            current_ph_id = str(ph_id)\n",
    "            ph_elem = ET.SubElement(text_container, 'PH', id=current_ph_id, original=content)\n",
    "            \n",
    "            placeholders[current_ph_id] = content\n",
    "            ph_id += 1\n",
    "            last_element = ph_elem # This is now the most recent element\n",
    "\n",
    "    # -- Step 3: Finalize and Save --\n",
    "    # Use method='xml' and short_empty_elements=True for self-closing tags like <PH ... />\n",
    "    xml_string = ET.tostring(root, encoding='unicode', method='xml', short_empty_elements=True)\n",
    "    \n",
    "    # Ensure the output directory exists\n",
    "    output_dir.mkdir(parents=True, exist_ok=True)\n",
    "\n",
    "    return xml_string, placeholders\n",
    "    \n",
    "    # Save placeholders for reconstruction\n",
    "    with open(output_dir / 'placeholders.json', 'w', encoding='utf-8') as f:\n",
    "        json.dump(placeholders, f, indent=2, ensure_ascii=False)\n",
    "        \n",
    "    return xml_string, placeholders"
   ]
  },
  {
   "cell_type": "code",
   "execution_count": 20,
   "id": "37c5e555-4dc5-4bf1-a123-13991a50e5a6",
   "metadata": {},
   "outputs": [
    {
     "data": {
      "text/plain": [
       "('<document><TEXT><PH id=\"1\" original=\"&#10;\\\\section{\" />Introduction<PH id=\"2\" original=\"}\" />\\nSoit <PH id=\"3\" original=\"$A \\\\subset E$\" /> borné si <PH id=\"4\" original=\"$\\\\exists R &gt; 0$\" /> tel que <PH id=\"5\" original=\"$A \\\\subset B(x, R)$\" />.\\n</TEXT></document>',\n",
       " {'1': '\\n\\\\section{',\n",
       "  '2': '}',\n",
       "  '3': '$A \\\\subset E$',\n",
       "  '4': '$\\\\exists R > 0$',\n",
       "  '5': '$A \\\\subset B(x, R)$'})"
      ]
     },
     "execution_count": 20,
     "metadata": {},
     "output_type": "execute_result"
    }
   ],
   "source": [
    "create_translation_xml(parse_latex(r'''\n",
    "\\section{Introduction}\n",
    "Soit $A \\subset E$ borné si $\\exists R > 0$ tel que $A \\subset B(x, R)$.\n",
    "'''), Path(\"\"))"
   ]
  },
  {
   "cell_type": "code",
   "execution_count": 22,
   "id": "5c33d05b-bc56-466f-b82b-a85087e598cc",
   "metadata": {},
   "outputs": [],
   "source": [
    "xml_doc, db = create_translation_xml(parsed_res, Path(\"\"))"
   ]
  },
  {
   "cell_type": "code",
   "execution_count": 23,
   "id": "c98112c9-93a2-40fa-8080-eb0a40f7d4c7",
   "metadata": {},
   "outputs": [
    {
     "data": {
      "text/plain": [
       "'<document><TEXT><PH id=\"1\" original=\"&#10;\\\\begin{theorem}\" />.\\n    <PH id=\"2\" original=\"\\\\begin{enumerate}&#10;        \\\\item \" />Soit <PH id=\"3\" original=\"$U_i$\" />,  <PH id=\"4\" original=\"$i \\\\in I$\" /> une collection d\\'ouverts. Alors,  <PH id=\"5\" original=\"$\\\\cup_{i \\\\in I} \\\\,U_i$\" /> est ouvert.<PH id=\"6\" original=\"\\\\\\\\\" />\\n            Translate: Une union quelconque des ensembles ouverts est ouvert.\\n        <PH id=\"7\" original=\"\\\\item \" />Si <PH id=\"8\" original=\"$U_1, \\\\ldots, U_n$\" /> sont ouverts\\n            <PH id=\"9\" original=\"\\\\[&#10;                \\\\bigcap\\\\limits_{i=1}^{n} \\\\, U_i \\\\text{\" /> est ouvert.<PH id=\"10\" original=\"}&#10;            \\\\]\" /> \\n            Translate: intersection <PH id=\"11\" original=\"\\\\underline{\" />finie<PH id=\"12\" original=\"}\" /> des ensembles ouverts est ouvert.\\n    <PH id=\"13\" original=\"\\\\end{enumerate}&#10;    \\\\begin{enumerate}&#10;        \\\\item \" />Soit <PH id=\"14\" original=\"$U_i$\" />,  <PH id=\"15\" original=\"$i \\\\in I$\" /> une collection de fermés. Alors,  <PH id=\"16\" original=\"$\\\\cup_{i \\\\in I} \\\\,U_i$\" /> est fermé.<PH id=\"17\" original=\"\\\\\\\\\" />\\n            Translate: Une union quelconque des ensembles fermés est fermé.\\n        <PH id=\"18\" original=\"\\\\item \" />Si <PH id=\"19\" original=\"$U_1, \\\\ldots, U_n$\" /> sont fermés \\n            <PH id=\"20\" original=\"\\\\[&#10;                \\\\bigcap\\\\limits_{i=1}^{n} \\\\, U_i \\\\text{\" /> est fermé.<PH id=\"21\" original=\"}&#10;            \\\\]\" /> \\n            Translate: intersection <PH id=\"22\" original=\"\\\\underline{\" />finie<PH id=\"23\" original=\"}\" /> des ensembles fermés est fermé.\\n    <PH id=\"24\" original=\"\\\\end{enumerate}&#10;\\\\end{theorem}&#10;\" /></TEXT></document>'"
      ]
     },
     "execution_count": 23,
     "metadata": {},
     "output_type": "execute_result"
    }
   ],
   "source": [
    "xml_doc"
   ]
  },
  {
   "cell_type": "code",
   "execution_count": 24,
   "id": "c050177a-30e3-4d6e-94ef-e5954ab65a1c",
   "metadata": {},
   "outputs": [
    {
     "name": "stdout",
     "output_type": "stream",
     "text": [
      "'\\n\\\\begin{theorem}'\n",
      "'\\\\begin{enumerate}\\n        \\\\item '\n",
      "'$U_i$'\n",
      "'$i \\\\in I$'\n",
      "'$\\\\cup_{i \\\\in I} \\\\,U_i$'\n",
      "'\\\\\\\\'\n",
      "'\\\\item '\n",
      "'$U_1, \\\\ldots, U_n$'\n",
      "'\\\\[\\n                \\\\bigcap\\\\limits_{i=1}^{n} \\\\, U_i \\\\text{'\n",
      "'}\\n            \\\\]'\n",
      "'\\\\underline{'\n",
      "'}'\n",
      "'\\\\end{enumerate}\\n    \\\\begin{enumerate}\\n        \\\\item '\n",
      "'$U_i$'\n",
      "'$i \\\\in I$'\n",
      "'$\\\\cup_{i \\\\in I} \\\\,U_i$'\n",
      "'\\\\\\\\'\n",
      "'\\\\item '\n",
      "'$U_1, \\\\ldots, U_n$'\n",
      "'\\\\[\\n                \\\\bigcap\\\\limits_{i=1}^{n} \\\\, U_i \\\\text{'\n",
      "'}\\n            \\\\]'\n",
      "'\\\\underline{'\n",
      "'}'\n",
      "'\\\\end{enumerate}\\n\\\\end{theorem}\\n'\n"
     ]
    }
   ],
   "source": [
    "for el in db:\n",
    "    print(repr(db[el]))"
   ]
  },
  {
   "cell_type": "markdown",
   "id": "4da2f460-13e3-4075-babd-fe9cef7426e1",
   "metadata": {},
   "source": [
    "## Reconstruction"
   ]
  },
  {
   "cell_type": "code",
   "execution_count": 25,
   "id": "c5edbe98-6e71-4b83-a6bc-c7a7f48f5e84",
   "metadata": {},
   "outputs": [],
   "source": [
    "def reconstruct_from_xml(translated_xml: str, placeholders: dict) -> str:\n",
    "    \"\"\"\n",
    "    Rebuilds the source document from a translated XML file that uses a\n",
    "    single <TEXT> tag with mixed content (text nodes and <PH> elements).\n",
    "\n",
    "    This function correctly interprets the .text and .tail attributes of\n",
    "    child elements within the <TEXT> tag to reconstruct the document in the\n",
    "    correct order.\n",
    "\n",
    "    Args:\n",
    "        translated_xml (str): The XML string from the translation process.\n",
    "                              It is expected to contain a <document><TEXT>...</TEXT></document> structure.\n",
    "        placeholders (dict): The dictionary mapping placeholder IDs to their\n",
    "                             original, non-translatable content.\n",
    "\n",
    "    Returns:\n",
    "        str: The fully reconstructed document with translated text and original placeholders.\n",
    "    \"\"\"\n",
    "    try:\n",
    "        root = ET.fromstring(translated_xml)\n",
    "    except ET.ParseError as e:\n",
    "        logging.error(f\"Failed to parse translated XML: {e}\")\n",
    "        logging.error(f\"XML Content that failed:\\n{translated_xml}\")\n",
    "        raise\n",
    "\n",
    "    # Find the main <TEXT> container tag.\n",
    "    text_container = root.find('TEXT')\n",
    "    if text_container is None:\n",
    "        logging.warning(\"Could not find a <TEXT> tag in the provided XML. Returning an empty string.\")\n",
    "        return \"\"\n",
    "\n",
    "    reconstructed_parts = []\n",
    "\n",
    "    # 1. Start with the initial text of the <TEXT> tag itself.\n",
    "    # This is the text before the very first <PH> child element.\n",
    "    if text_container.text:\n",
    "        reconstructed_parts.append(text_container.text)\n",
    "\n",
    "    # 2. Iterate through all child elements (<PH> tags) within <TEXT>.\n",
    "    for element in text_container:\n",
    "        # A. Append the content of the placeholder itself.\n",
    "        if element.tag == 'PH':\n",
    "            ph_id = element.get('id')\n",
    "            original_content = placeholders.get(ph_id)\n",
    "            if original_content is not None:\n",
    "                reconstructed_parts.append(original_content)\n",
    "            else:\n",
    "                # This could happen if the translator deleted a <PH> tag.\n",
    "                logging.warning(f\"Placeholder ID '{ph_id}' found in XML but not in the map. It will be skipped.\")\n",
    "        else:\n",
    "            logging.warning(f\"Unexpected tag <{element.tag}> found inside <TEXT>. It will be ignored.\")\n",
    "\n",
    "        # B. Append the text that immediately follows the placeholder.\n",
    "        # This is the \"tail\" text of the element.\n",
    "        if element.tail:\n",
    "            reconstructed_parts.append(element.tail)\n",
    "\n",
    "    return \"\".join(reconstructed_parts)"
   ]
  },
  {
   "cell_type": "code",
   "execution_count": 26,
   "id": "1b1e1151-e83c-4e43-b49f-c7d5be0b7711",
   "metadata": {},
   "outputs": [
    {
     "data": {
      "text/plain": [
       "\"\\n\\\\begin{theorem}.\\n    \\\\begin{enumerate}\\n        \\\\item Soit $U_i$,  $i \\\\in I$ une collection d'ouverts. Alors,  $\\\\cup_{i \\\\in I} \\\\,U_i$ est ouvert.\\\\\\\\\\n            Translate: Une union quelconque des ensembles ouverts est ouvert.\\n        \\\\item Si $U_1, \\\\ldots, U_n$ sont ouverts\\n            \\\\[\\n                \\\\bigcap\\\\limits_{i=1}^{n} \\\\, U_i \\\\text{ est ouvert.}\\n            \\\\] \\n            Translate: intersection \\\\underline{finie} des ensembles ouverts est ouvert.\\n    \\\\end{enumerate}\\n    \\\\begin{enumerate}\\n        \\\\item Soit $U_i$,  $i \\\\in I$ une collection de fermés. Alors,  $\\\\cup_{i \\\\in I} \\\\,U_i$ est fermé.\\\\\\\\\\n            Translate: Une union quelconque des ensembles fermés est fermé.\\n        \\\\item Si $U_1, \\\\ldots, U_n$ sont fermés \\n            \\\\[\\n                \\\\bigcap\\\\limits_{i=1}^{n} \\\\, U_i \\\\text{ est fermé.}\\n            \\\\] \\n            Translate: intersection \\\\underline{finie} des ensembles fermés est fermé.\\n    \\\\end{enumerate}\\n\\\\end{theorem}\\n\""
      ]
     },
     "execution_count": 26,
     "metadata": {},
     "output_type": "execute_result"
    }
   ],
   "source": [
    "str(reconstruct_from_xml(xml_doc, db))"
   ]
  },
  {
   "cell_type": "code",
   "execution_count": 165,
   "id": "6cfa9f94-12d7-4a82-a376-916a8017fb95",
   "metadata": {},
   "outputs": [],
   "source": [
    "with open(\"output.tex\", \"w\") as f:\n",
    "    f.write(reconstruct_document(xml_doc, db))"
   ]
  },
  {
   "cell_type": "code",
   "execution_count": null,
   "id": "3c38e8e1-4125-44ec-8c62-cf9f345009ff",
   "metadata": {},
   "outputs": [],
   "source": []
  },
  {
   "cell_type": "markdown",
   "id": "2be3bc02-3bca-4c15-ab3c-3b30745d6feb",
   "metadata": {},
   "source": [
    "## Translation"
   ]
  },
  {
   "cell_type": "code",
   "execution_count": 27,
   "id": "cda18d99-a961-4cfc-b597-2dca54ee139c",
   "metadata": {},
   "outputs": [],
   "source": [
    "def replace_tags(text: str, original: str, tagged: str, tgt_lang: str) -> str:\n",
    "    \"\"\"\n",
    "    Replace [ORIGINAL] and [TAGGED] placeholders in a given text.\n",
    "\n",
    "    Args:\n",
    "        text (str): The input text containing [ORIGINAL] and/or [TAGGED].\n",
    "        original (str): The value to replace [ORIGINAL].\n",
    "        tagged (str): The value to replace [TAGGED].\n",
    "\n",
    "    Returns:\n",
    "        str: The text with placeholders replaced.\n",
    "    \"\"\"\n",
    "    return text.replace(\"[ORIGINAL]\", original).replace(\"[TAGGED]\", tagged).replace(\"[TAGET_LANGUAGE]\", tgt_lang)"
   ]
  },
  {
   "cell_type": "code",
   "execution_count": 28,
   "id": "07d1d0fe-aede-4568-bf40-49d375f84f98",
   "metadata": {},
   "outputs": [],
   "source": [
    "context_priming_prompt = r'''\n",
    "Below is a scientific passage in its original language.\n",
    "Use it to understand the full meaning and grammar.\n",
    "\n",
    "Then you will see the same content with tags (<TEXT>, <PH>) separating structure and translatable units.\n",
    "\n",
    "Translate the <TEXT> elements based on the full context (original source) into [TAGET_LANGUAGE], while keeping all <PH> tags untouched.\n",
    "\n",
    "- Do NOT remove or modify any XML tags.\n",
    "\n",
    "---\n",
    "\n",
    "Original source:\n",
    "[ORIGINAL]\n",
    "\n",
    "Structured version:\n",
    "[TAGGED]\n",
    "\n",
    "Return the translated structured version below (without any additional text, only the translated tagged version) (same tags, translated <TEXT> content only):\n",
    "'''"
   ]
  },
  {
   "cell_type": "code",
   "execution_count": 99,
   "id": "d3a756e8-f932-4157-8f0d-aa5a2db1c26a",
   "metadata": {},
   "outputs": [],
   "source": [
    "prompt = r'''\n",
    "You are tasked with translating scientific text from [SOURCE_LANGUAGE] to [TARGET_LANGUAGE] using a structured XML format.\n",
    "\n",
    "The document is composed of <TEXT> elements that contain the full translatable content (sentences or paragraphs), interleaved with <PH> tags for non-translatable content such as LaTeX commands, math expressions, or code.\n",
    "Instructions:\n",
    "    - Translate only the content inside <TEXT> tags, excluding anything inside <PH> tags.\n",
    "    - Do not remove, modify any <PH/> tags or their attributes.\n",
    "    - Use the original attribute of each <PH/> tag to understand the context and grammar. This will help you make correct translation decisions (e.g., for plurality, case, or syntax), but you must not change or translate the contents of the <PH> tags themselves.\n",
    "    - Treat each <TEXT> block as a complete sentence or paragraph. You may reorder words, adjust structure, and apply natural grammar in the target language — as long as all <PH> tags remain in place and unchanged.\n",
    "    - Your response must contain only the translated XML — return the modified <TEXT> block with embedded <PH> tags and nothing else (no explanations, no markdown, no prefix/suffix text).\n",
    "    - All <PH> tags must be self-closing and written in the form: \n",
    "        <PH id=\"...\" original=\"...\"/>\n",
    "    - Do not produce </PH> closing tags, and do not place content inside <PH> elements. Any other structure is invalid and will break XML parsing.\n",
    "Output Format:\n",
    "<document>\n",
    "<TEXT>\n",
    "  ...translated text and inline <PH id=\"...\" original=\"...\"/> tags...\n",
    "</TEXT>\n",
    "</document>\n",
    "\n",
    "The document is provided below:\n",
    "'''"
   ]
  },
  {
   "cell_type": "code",
   "execution_count": 65,
   "id": "077a82e1-d8b5-4caf-a67b-357ca65a2f97",
   "metadata": {},
   "outputs": [],
   "source": [
    "orig_contents = r'''\n",
    "\\begin{theorem}.\n",
    "    \\begin{enumerate}\n",
    "        \\item Soit $U_i$,  $i \\in I$ une collection d'ouverts. Alors,  $\\cup_{i \\in I} \\,U_i$ est ouvert.\\\\\n",
    "            Translate: Une union quelconque des ensembles ouverts est ouvert.\n",
    "        \\item Si $U_1, \\ldots, U_n$ sont ouverts\n",
    "            \\[\n",
    "                \\bigcap\\limits_{i=1}^{n} \\, U_i \\text{ est ouvert.}\n",
    "            \\] \n",
    "            Translate: intersection \\underline{finie} des ensembles ouverts est ouvert.\n",
    "    \\end{enumerate}\n",
    "    \\begin{enumerate}\n",
    "        \\item Soit $U_i$,  $i \\in I$ une collection de fermés. Alors,  $\\cup_{i \\in I} \\,U_i$ est fermé.\\\\\n",
    "            Translate: Une union quelconque des ensembles fermés est fermé.\n",
    "        \\item Si $U_1, \\ldots, U_n$ sont fermés \n",
    "            \\[\n",
    "                \\bigcap\\limits_{i=1}^{n} \\, U_i \\text{ est fermé.}\n",
    "            \\] \n",
    "            Translate: intersection \\underline{finie} des ensembles fermés est fermé.\n",
    "    \\end{enumerate}\n",
    "\\end{theorem}\n",
    "'''"
   ]
  },
  {
   "cell_type": "code",
   "execution_count": 66,
   "id": "9057f006-b02e-4412-b752-2fa10461ca2f",
   "metadata": {},
   "outputs": [],
   "source": [
    "parsed_res = parse_latex(orig_contents)"
   ]
  },
  {
   "cell_type": "code",
   "execution_count": 67,
   "id": "370864e7-d60c-4d3f-a0ca-9360dcad80e3",
   "metadata": {},
   "outputs": [],
   "source": [
    "xml_doc, db = create_translation_xml(parsed_res, Path(\"\"))"
   ]
  },
  {
   "cell_type": "code",
   "execution_count": null,
   "id": "f78d19bf-b88a-4faf-b99c-cec209d0af58",
   "metadata": {},
   "outputs": [],
   "source": []
  },
  {
   "cell_type": "code",
   "execution_count": 68,
   "id": "3394ea14-17a2-4efd-ad57-7ae609069b3c",
   "metadata": {},
   "outputs": [],
   "source": [
    "full_question = replace_tags(context_priming_prompt, orig_contents, xml_doc, \"Ukrainian\").replace(\"[SOURCE_LANGUAGE]\", \"French\")"
   ]
  },
  {
   "cell_type": "code",
   "execution_count": 38,
   "id": "a10bb5b2-0983-424b-a702-a935e78114ec",
   "metadata": {},
   "outputs": [
    {
     "data": {
      "text/plain": [
       "'\\nBelow is a scientific passage in its original language.\\nUse it to understand the full meaning and grammar.\\n\\nThen you will see the same content with tags (<TEXT>, <PH>) separating structure and translatable units.\\n\\nTranslate the <TEXT> elements based on the full context (original source) into Ukrainian, while keeping all <PH> tags untouched.\\n\\n- Do NOT remove or modify any XML tags.\\n\\n---\\n\\nOriginal source:\\n\\n\\\\begin{theorem}.\\n    \\\\begin{enumerate}\\n        \\\\item Soit $U_i$,  $i \\\\in I$ une collection d\\'ouverts. Alors,  $\\\\cup_{i \\\\in I} \\\\,U_i$ est ouvert.\\\\\\\\\\n            Translate: Une union quelconque des ensembles ouverts est ouvert.\\n        \\\\item Si $U_1, \\\\ldots, U_n$ sont ouverts\\n            \\\\[\\n                \\\\bigcap\\\\limits_{i=1}^{n} \\\\, U_i \\\\text{ est ouvert.}\\n            \\\\] \\n            Translate: intersection \\\\underline{finie} des ensembles ouverts est ouvert.\\n    \\\\end{enumerate}\\n    \\\\begin{enumerate}\\n        \\\\item Soit $U_i$,  $i \\\\in I$ une collection de fermés. Alors,  $\\\\cup_{i \\\\in I} \\\\,U_i$ est fermé.\\\\\\\\\\n            Translate: Une union quelconque des ensembles fermés est fermé.\\n        \\\\item Si $U_1, \\\\ldots, U_n$ sont fermés \\n            \\\\[\\n                \\\\bigcap\\\\limits_{i=1}^{n} \\\\, U_i \\\\text{ est fermé.}\\n            \\\\] \\n            Translate: intersection \\\\underline{finie} des ensembles fermés est fermé.\\n    \\\\end{enumerate}\\n\\\\end{theorem}\\n\\n\\nStructured version:\\n<document><TEXT><PH id=\"1\" original=\"&#10;\\\\begin{theorem}\" />.\\n    <PH id=\"2\" original=\"\\\\begin{enumerate}&#10;        \\\\item \" />Soit <PH id=\"3\" original=\"$U_i$\" />,  <PH id=\"4\" original=\"$i \\\\in I$\" /> une collection d\\'ouverts. Alors,  <PH id=\"5\" original=\"$\\\\cup_{i \\\\in I} \\\\,U_i$\" /> est ouvert.<PH id=\"6\" original=\"\\\\\\\\\" />\\n            Translate: Une union quelconque des ensembles ouverts est ouvert.\\n        <PH id=\"7\" original=\"\\\\item \" />Si <PH id=\"8\" original=\"$U_1, \\\\ldots, U_n$\" /> sont ouverts\\n            <PH id=\"9\" original=\"\\\\[&#10;                \\\\bigcap\\\\limits_{i=1}^{n} \\\\, U_i \\\\text{\" /> est ouvert.<PH id=\"10\" original=\"}&#10;            \\\\]\" /> \\n            Translate: intersection <PH id=\"11\" original=\"\\\\underline{\" />finie<PH id=\"12\" original=\"}\" /> des ensembles ouverts est ouvert.\\n    <PH id=\"13\" original=\"\\\\end{enumerate}&#10;    \\\\begin{enumerate}&#10;        \\\\item \" />Soit <PH id=\"14\" original=\"$U_i$\" />,  <PH id=\"15\" original=\"$i \\\\in I$\" /> une collection de fermés. Alors,  <PH id=\"16\" original=\"$\\\\cup_{i \\\\in I} \\\\,U_i$\" /> est fermé.<PH id=\"17\" original=\"\\\\\\\\\" />\\n            Translate: Une union quelconque des ensembles fermés est fermé.\\n        <PH id=\"18\" original=\"\\\\item \" />Si <PH id=\"19\" original=\"$U_1, \\\\ldots, U_n$\" /> sont fermés \\n            <PH id=\"20\" original=\"\\\\[&#10;                \\\\bigcap\\\\limits_{i=1}^{n} \\\\, U_i \\\\text{\" /> est fermé.<PH id=\"21\" original=\"}&#10;            \\\\]\" /> \\n            Translate: intersection <PH id=\"22\" original=\"\\\\underline{\" />finie<PH id=\"23\" original=\"}\" /> des ensembles fermés est fermé.\\n    <PH id=\"24\" original=\"\\\\end{enumerate}&#10;\\\\end{theorem}&#10;\" /></TEXT></document>\\n\\nReturn the translated structured version below (without any additional text, only the translated tagged version) (same tags, translated <TEXT> content only):\\n'"
      ]
     },
     "execution_count": 38,
     "metadata": {},
     "output_type": "execute_result"
    }
   ],
   "source": [
    "xml_doc"
   ]
  },
  {
   "cell_type": "code",
   "execution_count": 256,
   "id": "6e1a96a6-f298-4c03-9016-a079ca03ff61",
   "metadata": {},
   "outputs": [],
   "source": [
    "answer2 = await _ask_aristote(full_question)"
   ]
  },
  {
   "cell_type": "code",
   "execution_count": 109,
   "id": "353613f6-0633-4d3a-b04d-025ecb0b1eae",
   "metadata": {},
   "outputs": [],
   "source": [
    "answer2 = await _ask_gemma_model(full_question)"
   ]
  },
  {
   "cell_type": "code",
   "execution_count": null,
   "id": "f5a61899-1cd1-4037-92c9-899e12af2c4f",
   "metadata": {},
   "outputs": [],
   "source": []
  },
  {
   "cell_type": "code",
   "execution_count": 260,
   "id": "2c1e4456-d147-4ac2-96be-73e321e9bed4",
   "metadata": {},
   "outputs": [],
   "source": [
    "translated_tex = reconstruct_from_xml(answer2, db)"
   ]
  },
  {
   "cell_type": "code",
   "execution_count": null,
   "id": "8ffaee0e-bc40-4cc9-9c46-a59496ef61c4",
   "metadata": {},
   "outputs": [],
   "source": []
  },
  {
   "cell_type": "code",
   "execution_count": 261,
   "id": "059b33e0-4ea1-4352-8fcd-1897cf6d6aa7",
   "metadata": {},
   "outputs": [],
   "source": [
    "with open(\"output.tex\", \"w\") as f:\n",
    "    f.write(translated_tex)"
   ]
  },
  {
   "cell_type": "code",
   "execution_count": null,
   "id": "91838f61-5316-4308-a6c4-83efae858fab",
   "metadata": {},
   "outputs": [],
   "source": []
  },
  {
   "cell_type": "markdown",
   "id": "056eac40-97a3-475b-a716-682c8477fe0c",
   "metadata": {},
   "source": [
    "## Without context"
   ]
  },
  {
   "cell_type": "code",
   "execution_count": 100,
   "id": "5f1ad173-8ceb-4fb2-81ec-ae69870fd368",
   "metadata": {},
   "outputs": [],
   "source": [
    "parsed_res = parse_latex(orig_contents)"
   ]
  },
  {
   "cell_type": "code",
   "execution_count": 101,
   "id": "c27de348-38af-4abf-875b-0c16fea63509",
   "metadata": {},
   "outputs": [],
   "source": [
    "xml_doc, db = create_translation_xml(parsed_res, Path(\"\"))"
   ]
  },
  {
   "cell_type": "code",
   "execution_count": 102,
   "id": "022d38ec-0063-4552-b0b6-f3b8cc9e6c4e",
   "metadata": {},
   "outputs": [
    {
     "data": {
      "text/plain": [
       "'<document><TEXT><PH id=\"1\" original=\"&#10;\\\\begin{theorem}\" />.\\n    <PH id=\"2\" original=\"\\\\begin{enumerate}&#10;        \\\\item \" />Soit <PH id=\"3\" original=\"$U_i$\" />,  <PH id=\"4\" original=\"$i \\\\in I$\" /> une collection d\\'ouverts. Alors,  <PH id=\"5\" original=\"$\\\\cup_{i \\\\in I} \\\\,U_i$\" /> est ouvert.<PH id=\"6\" original=\"\\\\\\\\\" />\\n            Translate: Une union quelconque des ensembles ouverts est ouvert.\\n        <PH id=\"7\" original=\"\\\\item \" />Si <PH id=\"8\" original=\"$U_1, \\\\ldots, U_n$\" /> sont ouverts\\n            <PH id=\"9\" original=\"\\\\[&#10;                \\\\bigcap\\\\limits_{i=1}^{n} \\\\, U_i \\\\text{\" /> est ouvert.<PH id=\"10\" original=\"}&#10;            \\\\]\" /> \\n            Translate: intersection <PH id=\"11\" original=\"\\\\underline{\" />finie<PH id=\"12\" original=\"}\" /> des ensembles ouverts est ouvert.\\n    <PH id=\"13\" original=\"\\\\end{enumerate}&#10;    \\\\begin{enumerate}&#10;        \\\\item \" />Soit <PH id=\"14\" original=\"$U_i$\" />,  <PH id=\"15\" original=\"$i \\\\in I$\" /> une collection de fermés. Alors,  <PH id=\"16\" original=\"$\\\\cup_{i \\\\in I} \\\\,U_i$\" /> est fermé.<PH id=\"17\" original=\"\\\\\\\\\" />\\n            Translate: Une union quelconque des ensembles fermés est fermé.\\n        <PH id=\"18\" original=\"\\\\item \" />Si <PH id=\"19\" original=\"$U_1, \\\\ldots, U_n$\" /> sont fermés \\n            <PH id=\"20\" original=\"\\\\[&#10;                \\\\bigcap\\\\limits_{i=1}^{n} \\\\, U_i \\\\text{\" /> est fermé.<PH id=\"21\" original=\"}&#10;            \\\\]\" /> \\n            Translate: intersection <PH id=\"22\" original=\"\\\\underline{\" />finie<PH id=\"23\" original=\"}\" /> des ensembles fermés est fermé.\\n    <PH id=\"24\" original=\"\\\\end{enumerate}&#10;\\\\end{theorem}&#10;\" /></TEXT></document>'"
      ]
     },
     "execution_count": 102,
     "metadata": {},
     "output_type": "execute_result"
    }
   ],
   "source": [
    "xml_doc"
   ]
  },
  {
   "cell_type": "code",
   "execution_count": 127,
   "id": "3c649c96-c623-4aab-8e16-5496892979bc",
   "metadata": {},
   "outputs": [],
   "source": [
    "full_question_without_context = prompt.replace(\"[TARGET_LANGUAGE]\", \"English\").replace(\"[SOURCE_LANGUAGE]\", \"French\") + xml_doc"
   ]
  },
  {
   "cell_type": "code",
   "execution_count": 128,
   "id": "416b8c5e-bf90-4335-8fa0-84e244f57fae",
   "metadata": {},
   "outputs": [
    {
     "data": {
      "text/plain": [
       "'\\nYou are tasked with translating scientific text from French to English using a structured XML format.\\n\\nThe document is composed of <TEXT> elements that contain the full translatable content (sentences or paragraphs), interleaved with <PH> tags for non-translatable content such as LaTeX commands, math expressions, or code.\\nInstructions:\\n    - Translate only the content inside <TEXT> tags, excluding anything inside <PH> tags.\\n    - Do not remove, modify any <PH/> tags or their attributes.\\n    - Use the original attribute of each <PH/> tag to understand the context and grammar. This will help you make correct translation decisions (e.g., for plurality, case, or syntax), but you must not change or translate the contents of the <PH> tags themselves.\\n    - Treat each <TEXT> block as a complete sentence or paragraph. You may reorder words, adjust structure, and apply natural grammar in the target language — as long as all <PH> tags remain in place and unchanged.\\n    - Your response must contain only the translated XML — return the modified <TEXT> block with embedded <PH> tags and nothing else (no explanations, no markdown, no prefix/suffix text).\\n    - All <PH> tags must be self-closing and written in the form: \\n        <PH id=\"...\" original=\"...\"/>\\n    - Do not produce </PH> closing tags, and do not place content inside <PH> elements. Any other structure is invalid and will break XML parsing.\\nOutput Format:\\n<document>\\n<TEXT>\\n  ...translated text and inline <PH id=\"...\" original=\"...\"/> tags...\\n</TEXT>\\n</document>\\n\\nThe document is provided below:\\n<document><TEXT><PH id=\"1\" original=\"&#10;\\\\begin{theorem}\" />.\\n    <PH id=\"2\" original=\"\\\\begin{enumerate}&#10;        \\\\item \" />Soit <PH id=\"3\" original=\"$U_i$\" />,  <PH id=\"4\" original=\"$i \\\\in I$\" /> une collection d\\'ouverts. Alors,  <PH id=\"5\" original=\"$\\\\cup_{i \\\\in I} \\\\,U_i$\" /> est ouvert.<PH id=\"6\" original=\"\\\\\\\\\" />\\n            Translate: Une union quelconque des ensembles ouverts est ouvert.\\n        <PH id=\"7\" original=\"\\\\item \" />Si <PH id=\"8\" original=\"$U_1, \\\\ldots, U_n$\" /> sont ouverts\\n            <PH id=\"9\" original=\"\\\\[&#10;                \\\\bigcap\\\\limits_{i=1}^{n} \\\\, U_i \\\\text{\" /> est ouvert.<PH id=\"10\" original=\"}&#10;            \\\\]\" /> \\n            Translate: intersection <PH id=\"11\" original=\"\\\\underline{\" />finie<PH id=\"12\" original=\"}\" /> des ensembles ouverts est ouvert.\\n    <PH id=\"13\" original=\"\\\\end{enumerate}&#10;    \\\\begin{enumerate}&#10;        \\\\item \" />Soit <PH id=\"14\" original=\"$U_i$\" />,  <PH id=\"15\" original=\"$i \\\\in I$\" /> une collection de fermés. Alors,  <PH id=\"16\" original=\"$\\\\cup_{i \\\\in I} \\\\,U_i$\" /> est fermé.<PH id=\"17\" original=\"\\\\\\\\\" />\\n            Translate: Une union quelconque des ensembles fermés est fermé.\\n        <PH id=\"18\" original=\"\\\\item \" />Si <PH id=\"19\" original=\"$U_1, \\\\ldots, U_n$\" /> sont fermés \\n            <PH id=\"20\" original=\"\\\\[&#10;                \\\\bigcap\\\\limits_{i=1}^{n} \\\\, U_i \\\\text{\" /> est fermé.<PH id=\"21\" original=\"}&#10;            \\\\]\" /> \\n            Translate: intersection <PH id=\"22\" original=\"\\\\underline{\" />finie<PH id=\"23\" original=\"}\" /> des ensembles fermés est fermé.\\n    <PH id=\"24\" original=\"\\\\end{enumerate}&#10;\\\\end{theorem}&#10;\" /></TEXT></document>'"
      ]
     },
     "execution_count": 128,
     "metadata": {},
     "output_type": "execute_result"
    }
   ],
   "source": [
    "full_question_without_context"
   ]
  },
  {
   "cell_type": "code",
   "execution_count": 130,
   "id": "91137e19-f38a-4e93-b0df-7b6d41f3afb9",
   "metadata": {},
   "outputs": [],
   "source": [
    "answer2_without_context = await _ask_aristote(full_question_without_context)"
   ]
  },
  {
   "cell_type": "code",
   "execution_count": 110,
   "id": "6fbcc6d5-71a5-4ec4-81e2-0c01fed5708a",
   "metadata": {},
   "outputs": [],
   "source": [
    "answer2_without_context = await _ask_gemma_model(full_question_without_context)\n"
   ]
  },
  {
   "cell_type": "code",
   "execution_count": 373,
   "id": "3af97fb3-bf30-43c0-ae01-f86e88f3b47a",
   "metadata": {},
   "outputs": [],
   "source": [
    "answer2_without_context = answer2_without_context[6:-3]"
   ]
  },
  {
   "cell_type": "code",
   "execution_count": 367,
   "id": "d694b1a0-20fd-46a8-8d5d-7c5f6cf609d8",
   "metadata": {},
   "outputs": [],
   "source": [
    "answer2_without_context = answer2_without_context.replace(\"Here is the translated XML:\\n\\n\\n\", \"\")"
   ]
  },
  {
   "cell_type": "code",
   "execution_count": 131,
   "id": "52f0c50d-e058-46f0-93b5-f4c2efd4071f",
   "metadata": {},
   "outputs": [
    {
     "data": {
      "text/plain": [
       "'<document>\\n<TEXT>\\n    <PH id=\"1\" original=\"&#10;\\\\begin{theorem}\" />.\\n    <PH id=\"2\" original=\"\\\\begin{enumerate}&#10;        \\\\item \" />Let <PH id=\"3\" original=\"$U_i$\" />,  <PH id=\"4\" original=\"$i \\\\in I$\" /> be a collection of open sets. Then,  <PH id=\"5\" original=\"$\\\\cup_{i \\\\in I} \\\\,U_i$\" /> is open.<PH id=\"6\" original=\"\\\\\\\\\" />\\n    Any union of open sets is open.\\n    <PH id=\"7\" original=\"\\\\item \" />If <PH id=\"8\" original=\"$U_1, \\\\ldots, U_n$\" /> are open\\n    <PH id=\"9\" original=\"\\\\[&#10;                \\\\bigcap\\\\limits_{i=1}^{n} \\\\, U_i \\\\text{\" /> is open.<PH id=\"10\" original=\"}&#10;            \\\\]\" /> \\n    The <PH id=\"11\" original=\"\\\\underline{\" />finite<PH id=\"12\" original=\"}\" /> intersection of open sets is open.\\n    <PH id=\"13\" original=\"\\\\end{enumerate}&#10;    \\\\begin{enumerate}&#10;        \\\\item \" />Let <PH id=\"14\" original=\"$U_i$\" />,  <PH id=\"15\" original=\"$i \\\\in I$\" /> be a collection of closed sets. Then,  <PH id=\"16\" original=\"$\\\\cup_{i \\\\in I} \\\\,U_i$\" /> is closed.<PH id=\"17\" original=\"\\\\\\\\\" />\\n    Any union of closed sets is closed.\\n    <PH id=\"18\" original=\"\\\\item \" />If <PH id=\"19\" original=\"$U_1, \\\\ldots, U_n$\" /> are closed \\n    <PH id=\"20\" original=\"\\\\[&#10;                \\\\bigcap\\\\limits_{i=1}^{n} \\\\, U_i \\\\text{\" /> is closed.<PH id=\"21\" original=\"}&#10;            \\\\]\" /> \\n    The <PH id=\"22\" original=\"\\\\underline{\" />finite<PH id=\"23\" original=\"}\" /> intersection of closed sets is closed.\\n    <PH id=\"24\" original=\"\\\\end{enumerate}&#10;\\\\end{theorem}&#10;\" />\\n</TEXT>\\n</document>'"
      ]
     },
     "execution_count": 131,
     "metadata": {},
     "output_type": "execute_result"
    }
   ],
   "source": [
    "answer2_without_context"
   ]
  },
  {
   "cell_type": "code",
   "execution_count": 132,
   "id": "bad3e922-cbd5-4cd9-9848-cc31ccdbadc6",
   "metadata": {},
   "outputs": [],
   "source": [
    "translated_tex_without_context = reconstruct_from_xml(answer2_without_context, db)"
   ]
  },
  {
   "cell_type": "code",
   "execution_count": 133,
   "id": "d5faa6bf-892c-4611-a688-e4dea2cbc266",
   "metadata": {},
   "outputs": [],
   "source": [
    "with open(\"output_without_context.tex\", \"w\") as f:\n",
    "    f.write(translated_tex_without_context)"
   ]
  },
  {
   "cell_type": "code",
   "execution_count": null,
   "id": "71dbbc1e-3855-4da6-92ad-6173bd6ee1cf",
   "metadata": {},
   "outputs": [],
   "source": []
  },
  {
   "cell_type": "code",
   "execution_count": 114,
   "id": "5542f6a7-f45c-4a5a-b856-6f6eaf6d205b",
   "metadata": {},
   "outputs": [],
   "source": [
    "answer_gemini_without_context = await _ask_gemini_model(full_question_without_context, \"gemini-2.0-flash\")"
   ]
  },
  {
   "cell_type": "code",
   "execution_count": 117,
   "id": "5c0c35a7-3984-4a50-a74b-e90712584163",
   "metadata": {},
   "outputs": [],
   "source": [
    "answer_gemini_without_context = answer_gemini_without_context[6:-3]"
   ]
  },
  {
   "cell_type": "code",
   "execution_count": 118,
   "id": "31ae9024-c67b-4530-88a7-81bcfe0898e4",
   "metadata": {},
   "outputs": [
    {
     "data": {
      "text/plain": [
       "'\\n<document><TEXT><PH id=\"1\" original=\"&#10;\\\\begin{theorem}\" />.\\n    <PH id=\"2\" original=\"\\\\begin{enumerate}&#10;        \\\\item \" />Нехай <PH id=\"3\" original=\"$U_i$\" />,  <PH id=\"4\" original=\"$i \\\\in I$\" /> — це колекція відкритих множин. Тоді,  <PH id=\"5\" original=\"$\\\\cup_{i \\\\in I} \\\\,U_i$\" /> є відкритою множиною.<PH id=\"6\" original=\"\\\\\\\\\" />\\n            Будь-яке об\\'єднання відкритих множин є відкритою множиною.\\n        <PH id=\"7\" original=\"\\\\item \" />Якщо <PH id=\"8\" original=\"$U_1, \\\\ldots, U_n$\" /> — відкриті множини, то\\n            <PH id=\"9\" original=\"\\\\[&#10;                \\\\bigcap\\\\limits_{i=1}^{n} \\\\, U_i \\\\text{\" /> є відкритою множиною.<PH id=\"10\" original=\"}&#10;            \\\\]\" /> \\n            Перетин <PH id=\"11\" original=\"\\\\underline{\" />скінченної<PH id=\"12\" original=\"}\" /> кількості відкритих множин є відкритою множиною.\\n    <PH id=\"13\" original=\"\\\\end{enumerate}&#10;    \\\\begin{enumerate}&#10;        \\\\item \" />Нехай <PH id=\"14\" original=\"$U_i$\" />,  <PH id=\"15\" original=\"$i \\\\in I$\" /> — це колекція замкнених множин. Тоді,  <PH id=\"16\" original=\"$\\\\cup_{i \\\\in I} \\\\,U_i$\" /> є замкненою множиною.<PH id=\"17\" original=\"\\\\\\\\\" />\\n            Будь-яке об\\'єднання замкнених множин є замкненою множиною.\\n        <PH id=\"18\" original=\"\\\\item \" />Якщо <PH id=\"19\" original=\"$U_1, \\\\ldots, U_n$\" /> — замкнені множини, то\\n            <PH id=\"20\" original=\"\\\\[&#10;                \\\\bigcap\\\\limits_{i=1}^{n} \\\\, U_i \\\\text{\" /> є замкненою множиною.<PH id=\"21\" original=\"}&#10;            \\\\]\" /> \\n            Перетин <PH id=\"22\" original=\"\\\\underline{\" />скінченної<PH id=\"23\" original=\"}\" /> кількості замкнених множин є замкненою множиною.\\n    <PH id=\"24\" original=\"\\\\end{enumerate}&#10;\\\\end{theorem}&#10;\" /></TEXT></document>\\n'"
      ]
     },
     "execution_count": 118,
     "metadata": {},
     "output_type": "execute_result"
    }
   ],
   "source": [
    "answer_gemini_without_context"
   ]
  },
  {
   "cell_type": "code",
   "execution_count": 119,
   "id": "77692d59-45ec-42fb-8209-406c83a4d2df",
   "metadata": {},
   "outputs": [],
   "source": [
    "translated_tex_without_context_gemini = reconstruct_from_xml(answer_gemini_without_context, db)"
   ]
  },
  {
   "cell_type": "code",
   "execution_count": 120,
   "id": "2ab50fcf-fee1-4499-aea7-12cac7379085",
   "metadata": {},
   "outputs": [],
   "source": [
    "with open(\"output_without_context_gemini.tex\", \"w\") as f:\n",
    "    f.write(translated_tex_without_context_gemini)"
   ]
  },
  {
   "cell_type": "code",
   "execution_count": null,
   "id": "e93de3f1-3cb4-4511-9443-8d2cffe80ec0",
   "metadata": {},
   "outputs": [],
   "source": []
  }
 ],
 "metadata": {
  "kernelspec": {
   "display_name": "Python 3 (ipykernel)",
   "language": "python",
   "name": "python3"
  },
  "language_info": {
   "codemirror_mode": {
    "name": "ipython",
    "version": 3
   },
   "file_extension": ".py",
   "mimetype": "text/x-python",
   "name": "python",
   "nbconvert_exporter": "python",
   "pygments_lexer": "ipython3",
   "version": "3.12.9"
  }
 },
 "nbformat": 4,
 "nbformat_minor": 5
}
